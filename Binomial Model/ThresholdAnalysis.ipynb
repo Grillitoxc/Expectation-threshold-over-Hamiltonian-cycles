{
  "nbformat": 4,
  "nbformat_minor": 0,
  "metadata": {
    "colab": {
      "provenance": [],
      "collapsed_sections": [],
      "toc_visible": true
    },
    "kernelspec": {
      "name": "python3",
      "display_name": "Python 3"
    },
    "language_info": {
      "name": "python"
    }
  },
  "cells": [
    {
      "cell_type": "code",
      "execution_count": null,
      "metadata": {
        "colab": {
          "base_uri": "https://localhost:8080/"
        },
        "id": "AYU4HT5B6cYS",
        "outputId": "b9a4530c-3e62-480c-eec3-6591b9b39f6e"
      },
      "outputs": [
        {
          "output_type": "stream",
          "name": "stdout",
          "text": [
            "sample_data\n",
            "--2022-09-25 23:24:06--  https://raw.githubusercontent.com/promanas/HDATA/main/probabilities15_10000.txt\n",
            "Resolving raw.githubusercontent.com (raw.githubusercontent.com)... 185.199.111.133, 185.199.110.133, 185.199.108.133, ...\n",
            "Connecting to raw.githubusercontent.com (raw.githubusercontent.com)|185.199.111.133|:443... connected.\n",
            "HTTP request sent, awaiting response... 200 OK\n",
            "Length: 48100 (47K) [text/plain]\n",
            "Saving to: ‘probabilities15_10000.txt’\n",
            "\n",
            "probabilities15_100 100%[===================>]  46.97K  --.-KB/s    in 0.02s   \n",
            "\n",
            "2022-09-25 23:24:07 (1.85 MB/s) - ‘probabilities15_10000.txt’ saved [48100/48100]\n",
            "\n",
            "--2022-09-25 23:24:07--  https://raw.githubusercontent.com/promanas/HDATA/main/probabilitiesN13.txt\n",
            "Resolving raw.githubusercontent.com (raw.githubusercontent.com)... 185.199.111.133, 185.199.110.133, 185.199.109.133, ...\n",
            "Connecting to raw.githubusercontent.com (raw.githubusercontent.com)|185.199.111.133|:443... connected.\n",
            "HTTP request sent, awaiting response... 200 OK\n",
            "Length: 4878 (4.8K) [text/plain]\n",
            "Saving to: ‘probabilitiesN13.txt’\n",
            "\n",
            "probabilitiesN13.tx 100%[===================>]   4.76K  --.-KB/s    in 0s      \n",
            "\n",
            "2022-09-25 23:24:07 (40.7 MB/s) - ‘probabilitiesN13.txt’ saved [4878/4878]\n",
            "\n",
            "--2022-09-25 23:24:07--  https://raw.githubusercontent.com/promanas/HDATA/main/probabilitiesN14.txt\n",
            "Resolving raw.githubusercontent.com (raw.githubusercontent.com)... 185.199.109.133, 185.199.108.133, 185.199.110.133, ...\n",
            "Connecting to raw.githubusercontent.com (raw.githubusercontent.com)|185.199.109.133|:443... connected.\n",
            "HTTP request sent, awaiting response... 200 OK\n",
            "Length: 4818 (4.7K) [text/plain]\n",
            "Saving to: ‘probabilitiesN14.txt’\n",
            "\n",
            "probabilitiesN14.tx 100%[===================>]   4.71K  --.-KB/s    in 0s      \n",
            "\n",
            "2022-09-25 23:24:08 (38.4 MB/s) - ‘probabilitiesN14.txt’ saved [4818/4818]\n",
            "\n",
            "--2022-09-25 23:24:08--  https://raw.githubusercontent.com/promanas/HDATA/main/probabilitiesN15.txt\n",
            "Resolving raw.githubusercontent.com (raw.githubusercontent.com)... 185.199.108.133, 185.199.109.133, 185.199.110.133, ...\n",
            "Connecting to raw.githubusercontent.com (raw.githubusercontent.com)|185.199.108.133|:443... connected.\n",
            "HTTP request sent, awaiting response... 200 OK\n",
            "Length: 4795 (4.7K) [text/plain]\n",
            "Saving to: ‘probabilitiesN15.txt’\n",
            "\n",
            "probabilitiesN15.tx 100%[===================>]   4.68K  --.-KB/s    in 0s      \n",
            "\n",
            "2022-09-25 23:24:08 (51.0 MB/s) - ‘probabilitiesN15.txt’ saved [4795/4795]\n",
            "\n",
            "--2022-09-25 23:24:09--  https://raw.githubusercontent.com/promanas/HDATA/main/probabilitiesN16.txt\n",
            "Resolving raw.githubusercontent.com (raw.githubusercontent.com)... 185.199.108.133, 185.199.111.133, 185.199.109.133, ...\n",
            "Connecting to raw.githubusercontent.com (raw.githubusercontent.com)|185.199.108.133|:443... connected.\n",
            "HTTP request sent, awaiting response... 200 OK\n",
            "Length: 4798 (4.7K) [text/plain]\n",
            "Saving to: ‘probabilitiesN16.txt’\n",
            "\n",
            "probabilitiesN16.tx 100%[===================>]   4.69K  --.-KB/s    in 0s      \n",
            "\n",
            "2022-09-25 23:24:09 (57.4 MB/s) - ‘probabilitiesN16.txt’ saved [4798/4798]\n",
            "\n",
            "--2022-09-25 23:24:09--  https://raw.githubusercontent.com/promanas/HDATA/main/probabilitiesN17.txt\n",
            "Resolving raw.githubusercontent.com (raw.githubusercontent.com)... 185.199.111.133, 185.199.109.133, 185.199.110.133, ...\n",
            "Connecting to raw.githubusercontent.com (raw.githubusercontent.com)|185.199.111.133|:443... connected.\n",
            "HTTP request sent, awaiting response... 200 OK\n",
            "Length: 4811 (4.7K) [text/plain]\n",
            "Saving to: ‘probabilitiesN17.txt’\n",
            "\n",
            "probabilitiesN17.tx 100%[===================>]   4.70K  --.-KB/s    in 0s      \n",
            "\n",
            "2022-09-25 23:24:09 (56.6 MB/s) - ‘probabilitiesN17.txt’ saved [4811/4811]\n",
            "\n",
            "--2022-09-25 23:24:10--  https://raw.githubusercontent.com/promanas/HDATA/main/probabilitiesN18.txt\n",
            "Resolving raw.githubusercontent.com (raw.githubusercontent.com)... 185.199.108.133, 185.199.109.133, 185.199.111.133, ...\n",
            "Connecting to raw.githubusercontent.com (raw.githubusercontent.com)|185.199.108.133|:443... connected.\n",
            "HTTP request sent, awaiting response... 200 OK\n",
            "Length: 4808 (4.7K) [text/plain]\n",
            "Saving to: ‘probabilitiesN18.txt’\n",
            "\n",
            "probabilitiesN18.tx 100%[===================>]   4.70K  --.-KB/s    in 0s      \n",
            "\n",
            "2022-09-25 23:24:10 (57.8 MB/s) - ‘probabilitiesN18.txt’ saved [4808/4808]\n",
            "\n",
            "--2022-09-25 23:24:10--  https://raw.githubusercontent.com/promanas/HDATA/main/probabilitiesN19.txt\n",
            "Resolving raw.githubusercontent.com (raw.githubusercontent.com)... 185.199.108.133, 185.199.109.133, 185.199.111.133, ...\n",
            "Connecting to raw.githubusercontent.com (raw.githubusercontent.com)|185.199.108.133|:443... connected.\n",
            "HTTP request sent, awaiting response... 200 OK\n",
            "Length: 4803 (4.7K) [text/plain]\n",
            "Saving to: ‘probabilitiesN19.txt’\n",
            "\n",
            "probabilitiesN19.tx 100%[===================>]   4.69K  --.-KB/s    in 0s      \n",
            "\n",
            "2022-09-25 23:24:11 (29.6 MB/s) - ‘probabilitiesN19.txt’ saved [4803/4803]\n",
            "\n",
            "probabilities15_10000.txt  probabilitiesN15.txt  probabilitiesN18.txt\n",
            "probabilitiesN13.txt\t   probabilitiesN16.txt  probabilitiesN19.txt\n",
            "probabilitiesN14.txt\t   probabilitiesN17.txt  sample_data\n"
          ]
        }
      ],
      "source": [
        "# in case of\n",
        "!rm -f probabilities* \n",
        "!ls\n",
        "\n",
        "# Loading files from github rawlink to colab virtual server disk\n",
        "\n",
        "!wget \"https://raw.githubusercontent.com/promanas/HDATA/main/probabilities15_10000.txt\"\n",
        "!wget \"https://raw.githubusercontent.com/promanas/HDATA/main/probabilitiesN13.txt\"\n",
        "!wget \"https://raw.githubusercontent.com/promanas/HDATA/main/probabilitiesN14.txt\"\n",
        "!wget \"https://raw.githubusercontent.com/promanas/HDATA/main/probabilitiesN15.txt\"\n",
        "!wget \"https://raw.githubusercontent.com/promanas/HDATA/main/probabilitiesN16.txt\"\n",
        "!wget \"https://raw.githubusercontent.com/promanas/HDATA/main/probabilitiesN17.txt\"\n",
        "!wget \"https://raw.githubusercontent.com/promanas/HDATA/main/probabilitiesN18.txt\"\n",
        "!wget \"https://raw.githubusercontent.com/promanas/HDATA/main/probabilitiesN19.txt\"\n",
        "!ls"
      ]
    },
    {
      "cell_type": "code",
      "source": [
        "import numpy as np\n",
        "import matplotlib.pyplot as plt\n",
        "import matplotlib.gridspec as gridspec\n",
        "\n",
        "# loading data\n",
        "prob15_10000 = np.loadtxt(\"probabilities15_10000.txt\")\n",
        "prob13 = np.loadtxt(\"probabilitiesN13.txt\")\n",
        "prob14 = np.loadtxt(\"probabilitiesN14.txt\")\n",
        "prob15 = np.loadtxt(\"probabilitiesN15.txt\")\n",
        "prob16 = np.loadtxt(\"probabilitiesN16.txt\")\n",
        "prob17 = np.loadtxt(\"probabilitiesN17.txt\")\n",
        "prob18 = np.loadtxt(\"probabilitiesN18.txt\")\n",
        "prob19 = np.loadtxt(\"probabilitiesN19.txt\")"
      ],
      "metadata": {
        "id": "FgAVX0P0-I0-"
      },
      "execution_count": null,
      "outputs": []
    },
    {
      "cell_type": "code",
      "source": [
        "print(\"size: \", np.size(prob15_10000))\n",
        "print(\"max: \", np.max(prob15_10000))\n",
        "print(\"min: \", np.min(prob15_10000))\n",
        "print(\"std: \", np.std(prob15_10000))\n"
      ],
      "metadata": {
        "colab": {
          "base_uri": "https://localhost:8080/"
        },
        "id": "K8CZ2q57cara",
        "outputId": "af1a9785-e820-4996-a859-e707e6c6f777"
      },
      "execution_count": null,
      "outputs": [
        {
          "output_type": "stream",
          "name": "stdout",
          "text": [
            "size:  10000\n",
            "max:  0.54\n",
            "min:  0.12\n",
            "std:  0.06271127410601701\n"
          ]
        }
      ]
    },
    {
      "cell_type": "code",
      "source": [
        "plt.hist(prob15_10000,bins=\"auto\")\n",
        "plt.title(\"prob15_10000\")\n",
        "\n"
      ],
      "metadata": {
        "colab": {
          "base_uri": "https://localhost:8080/",
          "height": 299
        },
        "id": "Wkh9WiKCDW5t",
        "outputId": "e5ff95fe-419c-4c89-bab3-53ec68d35443"
      },
      "execution_count": null,
      "outputs": [
        {
          "output_type": "execute_result",
          "data": {
            "text/plain": [
              "Text(0.5, 1.0, 'prob15_10000')"
            ]
          },
          "metadata": {},
          "execution_count": 4
        },
        {
          "output_type": "display_data",
          "data": {
            "text/plain": [
              "<Figure size 432x288 with 1 Axes>"
            ],
            "image/png": "[encoded data removed]"
          },
          "metadata": {
            "needs_background": "light"
          }
        }
      ]
    },
    {
      "cell_type": "code",
      "source": [
        "plt.subplots(1)\n",
        "plt.title(\"Frecuencia de $P_k$ con $G$ de 13 nodos\")\n",
        "plt.xlabel(\"Probabilidad $P$\")\n",
        "plt.ylabel(\"Frecuencia\")\n",
        "plt.hist(prob13,bins=\"auto\")\n",
        "plt.subplots(1)\n",
        "plt.title(\"Frecuencia de $P_k$ con $G$ de 14 nodos\")\n",
        "plt.xlabel(\"Probabilidad $P$\")\n",
        "plt.ylabel(\"Frecuencia\")\n",
        "plt.hist(prob14,bins=\"auto\")\n",
        "plt.subplots(1)\n",
        "plt.title(\"Frecuencia de $P_k$ con $G$ de 15 nodos\")\n",
        "plt.xlabel(\"Probabilidad $P$\")\n",
        "plt.ylabel(\"Frecuencia\")\n",
        "plt.hist(prob15,bins=\"auto\")\n",
        "plt.subplots(1)\n",
        "plt.title(\"Frecuencia de $P_k$ con $G$ de 16 nodos\")\n",
        "plt.xlabel(\"Probabilidad $P$\")\n",
        "plt.ylabel(\"Frecuencia\")\n",
        "plt.hist(prob16,bins=\"auto\")\n",
        "plt.subplots(1)\n",
        "plt.title(\"Frecuencia de $P_k$ con $G$ de 17 nodos\")\n",
        "plt.xlabel(\"Probabilidad $P$\")\n",
        "plt.ylabel(\"Frecuencia\")\n",
        "plt.hist(prob17,bins=\"auto\")\n",
        "plt.subplots(1)\n",
        "plt.title(\"Frecuencia de $P_k$ con $G$ de 18 nodos\")\n",
        "plt.xlabel(\"Probabilidad $P$\")\n",
        "plt.ylabel(\"Frecuencia\")\n",
        "plt.hist(prob18,bins=\"auto\")\n",
        "plt.subplots(1)\n",
        "plt.title(\"Frecuencia de $P_k$ con $G$ de 19 nodos\")\n",
        "plt.xlabel(\"Probabilidad $P$\")\n",
        "plt.ylabel(\"Frecuencia\")\n",
        "plt.hist(prob19,bins=\"auto\")\n"
      ],
      "metadata": {
        "colab": {
          "base_uri": "https://localhost:8080/",
          "height": 1000
        },
        "id": "p9aRyyF9IXzA",
        "outputId": "61e498da-8d52-4b11-c871-737461f10651"
      },
      "execution_count": null,
      "outputs": [
        {
          "output_type": "execute_result",
          "data": {
            "text/plain": [
              "(array([  1.,   0.,   7.,   0.,   0.,  83.,   0., 149.,   0.,   0., 239.,\n",
              "          0., 214.,   0.,   0., 197.,   0.,  89.,   0.,  21.]),\n",
              " array([0.12 , 0.132, 0.144, 0.156, 0.168, 0.18 , 0.192, 0.204, 0.216,\n",
              "        0.228, 0.24 , 0.252, 0.264, 0.276, 0.288, 0.3  , 0.312, 0.324,\n",
              "        0.336, 0.348, 0.36 ]),\n",
              " <a list of 20 Patch objects>)"
            ]
          },
          "metadata": {},
          "execution_count": 5
        },
        {
          "output_type": "display_data",
          "data": {
            "text/plain": [
              "<Figure size 432x288 with 1 Axes>"
            ],
            "image/png": "[encoded data removed]"
          },
          "metadata": {
            "needs_background": "light"
          }
        },
        {
          "output_type": "display_data",
          "data": {
            "text/plain": [
              "<Figure size 432x288 with 1 Axes>"
            ],
            "image/png": "[encoded data removed]"
          },
          "metadata": {
            "needs_background": "light"
          }
        },
        {
          "output_type": "display_data",
          "data": {
            "text/plain": [
              "<Figure size 432x288 with 1 Axes>"
            ],
            "image/png": "[encoded data removed]"
          },
          "metadata": {
            "needs_background": "light"
          }
        },
        {
          "output_type": "display_data",
          "data": {
            "text/plain": [
              "<Figure size 432x288 with 1 Axes>"
            ],
            "image/png": "[encoded data removed]"
          },
          "metadata": {
            "needs_background": "light"
          }
        },
        {
          "output_type": "display_data",
          "data": {
            "text/plain": [
              "<Figure size 432x288 with 1 Axes>"
            ],
            "image/png": "[encoded data removed]"
          },
          "metadata": {
            "needs_background": "light"
          }
        },
        {
          "output_type": "display_data",
          "data": {
            "text/plain": [
              "<Figure size 432x288 with 1 Axes>"
            ],
            "image/png": "[encoded data removed]"
          },
          "metadata": {
            "needs_background": "light"
          }
        },
        {
          "output_type": "display_data",
          "data": {
            "text/plain": [
              "<Figure size 432x288 with 1 Axes>"
            ],
            "image/png": "[encoded data removed]"
          },
          "metadata": {
            "needs_background": "light"
          }
        }
      ]
    },
    {
      "cell_type": "markdown",
      "source": [
        "# Fitting data to statistical model"
      ],
      "metadata": {
        "id": "lp5ZsKIPJsx9"
      }
    },
    {
      "cell_type": "code",
      "source": [
        "import pymc as pm\n",
        "import aesara.tensor as at\n",
        "import arviz as az"
      ],
      "metadata": {
        "id": "PPJHZBb8ZVO9"
      },
      "execution_count": null,
      "outputs": []
    },
    {
      "cell_type": "code",
      "source": [
        "data_15_10000 =np.array((prob15_10000-np.min(prob15_10000))/0.03,dtype=np.int64)\n",
        "range15_10000=np.unique(data_15_10000)\n",
        "range15_10000\n",
        "\n"
      ],
      "metadata": {
        "colab": {
          "base_uri": "https://localhost:8080/"
        },
        "id": "UXrjrW6JkDRd",
        "outputId": "c3811b65-134e-47d7-a76c-eb71d5865627"
      },
      "execution_count": null,
      "outputs": [
        {
          "output_type": "execute_result",
          "data": {
            "text/plain": [
              "array([ 0,  1,  2,  3,  4,  5,  6,  7,  8,  9, 10, 11, 12, 13, 14])"
            ]
          },
          "metadata": {},
          "execution_count": 7
        }
      ]
    },
    {
      "cell_type": "code",
      "source": [
        "# the model is a binomial where parameter p is uniform and n is 14 \n",
        "# data should be transformed to binomial domain: integer from 0 to n\n",
        "with pm.Model() as model15_10000:\n",
        "  P = pm.Uniform(name=\"P\", lower=at.as_tensor_variable(0.0), upper=at.as_tensor_variable(1.0))\n",
        "  Distrib = pm.Binomial(name=\"Distrib\", p=P ,n=14 , observed=data_15_10000)\n"
      ],
      "metadata": {
        "id": "NayugOBEZbWA"
      },
      "execution_count": null,
      "outputs": []
    },
    {
      "cell_type": "code",
      "source": [
        "pm.model_to_graphviz(model15_10000)"
      ],
      "metadata": {
        "colab": {
          "base_uri": "https://localhost:8080/",
          "height": 332
        },
        "id": "IT28i1y_f5H-",
        "outputId": "060a9c97-0e0b-4732-b701-7645dd85c45b"
      },
      "execution_count": null,
      "outputs": [
        {
          "output_type": "execute_result",
          "data": {
            "text/plain": [
              "<graphviz.dot.Digraph at 0x7f89f8e8dbd0>"
            ],
            "image/svg+xml": "<?xml version=\"1.0\" encoding=\"UTF-8\" standalone=\"no\"?>\n<!DOCTYPE svg PUBLIC \"-//W3C//DTD SVG 1.1//EN\"\n \"http://www.w3.org/Graphics/SVG/1.1/DTD/svg11.dtd\">\n<!-- Generated by graphviz version 2.40.1 (20161225.0304)\n -->\n<!-- Title: %3 Pages: 1 -->\n<svg width=\"138pt\" height=\"233pt\"\n viewBox=\"0.00 0.00 138.00 232.91\" xmlns=\"http://www.w3.org/2000/svg\" xmlns:xlink=\"http://www.w3.org/1999/xlink\">\n<g id=\"graph0\" class=\"graph\" transform=\"scale(1 1) rotate(0) translate(4 228.9066)\">\n<title>%3</title>\n<polygon fill=\"#ffffff\" stroke=\"transparent\" points=\"-4,4 -4,-228.9066 134,-228.9066 134,4 -4,4\"/>\n<g id=\"clust1\" class=\"cluster\">\n<title>cluster10000</title>\n<path fill=\"none\" stroke=\"#000000\" d=\"M20,-8C20,-8 110,-8 110,-8 116,-8 122,-14 122,-20 122,-20 122,-109.9533 122,-109.9533 122,-115.9533 116,-121.9533 110,-121.9533 110,-121.9533 20,-121.9533 20,-121.9533 14,-121.9533 8,-115.9533 8,-109.9533 8,-109.9533 8,-20 8,-20 8,-14 14,-8 20,-8\"/>\n<text text-anchor=\"middle\" x=\"95\" y=\"-15.8\" font-family=\"Times,serif\" font-size=\"14.00\" fill=\"#000000\">10000</text>\n</g>\n<!-- P -->\n<g id=\"node1\" class=\"node\">\n<title>P</title>\n<ellipse fill=\"none\" stroke=\"#000000\" cx=\"65\" cy=\"-187.43\" rx=\"46.8387\" ry=\"37.4533\"/>\n<text text-anchor=\"middle\" x=\"65\" y=\"-198.73\" font-family=\"Times,serif\" font-size=\"14.00\" fill=\"#000000\">P</text>\n<text text-anchor=\"middle\" x=\"65\" y=\"-183.73\" font-family=\"Times,serif\" font-size=\"14.00\" fill=\"#000000\">~</text>\n<text text-anchor=\"middle\" x=\"65\" y=\"-168.73\" font-family=\"Times,serif\" font-size=\"14.00\" fill=\"#000000\">Uniform</text>\n</g>\n<!-- Distrib -->\n<g id=\"node2\" class=\"node\">\n<title>Distrib</title>\n<ellipse fill=\"#d3d3d3\" stroke=\"#000000\" cx=\"65\" cy=\"-76.4767\" rx=\"49.4949\" ry=\"37.4533\"/>\n<text text-anchor=\"middle\" x=\"65\" y=\"-87.7767\" font-family=\"Times,serif\" font-size=\"14.00\" fill=\"#000000\">Distrib</text>\n<text text-anchor=\"middle\" x=\"65\" y=\"-72.7767\" font-family=\"Times,serif\" font-size=\"14.00\" fill=\"#000000\">~</text>\n<text text-anchor=\"middle\" x=\"65\" y=\"-57.7767\" font-family=\"Times,serif\" font-size=\"14.00\" fill=\"#000000\">Binomial</text>\n</g>\n<!-- P&#45;&gt;Distrib -->\n<g id=\"edge1\" class=\"edge\">\n<title>P&#45;&gt;Distrib</title>\n<path fill=\"none\" stroke=\"#000000\" d=\"M65,-149.8662C65,-141.6423 65,-132.8301 65,-124.267\"/>\n<polygon fill=\"#000000\" stroke=\"#000000\" points=\"68.5001,-124.0017 65,-114.0017 61.5001,-124.0017 68.5001,-124.0017\"/>\n</g>\n</g>\n</svg>\n"
          },
          "metadata": {},
          "execution_count": 9
        }
      ]
    },
    {
      "cell_type": "code",
      "source": [
        "with model15_10000:\n",
        "  trace = pm.sample(draws=10000, tune=1000)"
      ],
      "metadata": {
        "colab": {
          "base_uri": "https://localhost:8080/",
          "height": 57
        },
        "id": "HW84vu6yguzb",
        "outputId": "4ba1f67e-1606-4c92-eb36-a84f71b9b737"
      },
      "execution_count": null,
      "outputs": [
        {
          "output_type": "display_data",
          "data": {
            "text/plain": [
              "<IPython.core.display.HTML object>"
            ],
            "text/html": [
              "\n",
              "<style>\n",
              "    /* Turns off some styling */\n",
              "    progress {\n",
              "        /* gets rid of default border in Firefox and Opera. */\n",
              "        border: none;\n",
              "        /* Needs to be in here for Safari polyfill so background images work as expected. */\n",
              "        background-size: auto;\n",
              "    }\n",
              "    progress:not([value]), progress:not([value])::-webkit-progress-bar {\n",
              "        background: repeating-linear-gradient(45deg, #7e7e7e, #7e7e7e 10px, #5c5c5c 10px, #5c5c5c 20px);\n",
              "    }\n",
              "    .progress-bar-interrupted, .progress-bar-interrupted::-webkit-progress-bar {\n",
              "        background: #F44336;\n",
              "    }\n",
              "</style>\n"
            ]
          },
          "metadata": {}
        },
        {
          "output_type": "display_data",
          "data": {
            "text/plain": [
              "<IPython.core.display.HTML object>"
            ],
            "text/html": [
              "\n",
              "    <div>\n",
              "      <progress value='11000' class='' max='11000' style='width:300px; height:20px; vertical-align: middle;'></progress>\n",
              "      100.00% [11000/11000 00:15&lt;00:00 Sampling chain 0, 0 divergences]\n",
              "    </div>\n",
              "    "
            ]
          },
          "metadata": {}
        },
        {
          "output_type": "display_data",
          "data": {
            "text/plain": [
              "<IPython.core.display.HTML object>"
            ],
            "text/html": [
              "\n",
              "<style>\n",
              "    /* Turns off some styling */\n",
              "    progress {\n",
              "        /* gets rid of default border in Firefox and Opera. */\n",
              "        border: none;\n",
              "        /* Needs to be in here for Safari polyfill so background images work as expected. */\n",
              "        background-size: auto;\n",
              "    }\n",
              "    progress:not([value]), progress:not([value])::-webkit-progress-bar {\n",
              "        background: repeating-linear-gradient(45deg, #7e7e7e, #7e7e7e 10px, #5c5c5c 10px, #5c5c5c 20px);\n",
              "    }\n",
              "    .progress-bar-interrupted, .progress-bar-interrupted::-webkit-progress-bar {\n",
              "        background: #F44336;\n",
              "    }\n",
              "</style>\n"
            ]
          },
          "metadata": {}
        },
        {
          "output_type": "display_data",
          "data": {
            "text/plain": [
              "<IPython.core.display.HTML object>"
            ],
            "text/html": [
              "\n",
              "    <div>\n",
              "      <progress value='11000' class='' max='11000' style='width:300px; height:20px; vertical-align: middle;'></progress>\n",
              "      100.00% [11000/11000 00:14&lt;00:00 Sampling chain 1, 0 divergences]\n",
              "    </div>\n",
              "    "
            ]
          },
          "metadata": {}
        }
      ]
    },
    {
      "cell_type": "code",
      "source": [
        "az.plot_energy(trace)"
      ],
      "metadata": {
        "colab": {
          "base_uri": "https://localhost:8080/",
          "height": 270
        },
        "id": "ajnzFaQV3DIQ",
        "outputId": "a025376d-18aa-40ba-ab98-207efd3e2cad"
      },
      "execution_count": null,
      "outputs": [
        {
          "output_type": "execute_result",
          "data": {
            "text/plain": [
              "<matplotlib.axes._subplots.AxesSubplot at 0x7f89ef78fa50>"
            ]
          },
          "metadata": {},
          "execution_count": 11
        },
        {
          "output_type": "display_data",
          "data": {
            "text/plain": [
              "<Figure size 432x288 with 1 Axes>"
            ],
            "image/png": "[encoded data removed]"
          },
          "metadata": {}
        }
      ]
    },
    {
      "cell_type": "code",
      "source": [
        "with model15_10000:\n",
        "  az.plot_trace(trace, legend=True)"
      ],
      "metadata": {
        "colab": {
          "base_uri": "https://localhost:8080/",
          "height": 171
        },
        "id": "e7UEGceJ3ztn",
        "outputId": "ac101b2a-219c-4320-8ce5-cc63c1782821"
      },
      "execution_count": null,
      "outputs": [
        {
          "output_type": "display_data",
          "data": {
            "text/plain": [
              "<Figure size 864x144 with 2 Axes>"
            ],
            "image/png": "[encoded data removed]"
          },
          "metadata": {
            "needs_background": "light"
          }
        }
      ]
    },
    {
      "cell_type": "code",
      "source": [
        "trace"
      ],
      "metadata": {
        "colab": {
          "base_uri": "https://localhost:8080/",
          "height": 161
        },
        "id": "1flFYOfF2Je0",
        "outputId": "53c60820-7df0-46ce-a3af-7ede76a955c5"
      },
      "execution_count": null,
      "outputs": [
        {
          "output_type": "execute_result",
          "data": {
            "text/plain": [
              "Inference data with groups:\n",
              "\t> posterior\n",
              "\t> log_likelihood\n",
              "\t> sample_stats\n",
              "\t> observed_data"
            ],
            "text/html": [
              "\n",
              "            <div>\n",
              "              <div class='xr-header'>\n",
              "                <div class=\"xr-obj-type\">arviz.InferenceData</div>\n",
              "              </div>\n",
              "              <ul class=\"xr-sections group-sections\">\n",
              "              \n",
              "            <li class = \"xr-section-item\">\n",
              "                  <input id=\"idata_posterior86c9bd58-5a8b-4acc-acd6-3059435d124c\" class=\"xr-section-summary-in\" type=\"checkbox\">\n",
              "                  <label for=\"idata_posterior86c9bd58-5a8b-4acc-acd6-3059435d124c\" class = \"xr-section-summary\">posterior</label>\n",
              "                  <div class=\"xr-section-inline-details\"></div>\n",
              "                  <div class=\"xr-section-details\">\n",
              "                      <ul id=\"xr-dataset-coord-list\" class=\"xr-var-list\">\n",
              "                          <div style=\"padding-left:2rem;\"><div><svg style=\"position: absolute; width: 0; height: 0; overflow: hidden\">\n",
              "<defs>\n",
              "<symbol id=\"icon-database\" viewBox=\"0 0 32 32\">\n",
              "<path d=\"M16 0c-8.837 0-16 2.239-16 5v4c0 2.761 7.163 5 16 5s16-2.239 16-5v-4c0-2.761-7.163-5-16-5z\"></path>\n",
              "<path d=\"M16 17c-8.837 0-16-2.239-16-5v6c0 2.761 7.163 5 16 5s16-2.239 16-5v-6c0 2.761-7.163 5-16 5z\"></path>\n",
              "<path d=\"M16 26c-8.837 0-16-2.239-16-5v6c0 2.761 7.163 5 16 5s16-2.239 16-5v-6c0 2.761-7.163 5-16 5z\"></path>\n",
              "</symbol>\n",
              "<symbol id=\"icon-file-text2\" viewBox=\"0 0 32 32\">\n",
              "<path d=\"M28.681 7.159c-0.694-0.947-1.662-2.053-2.724-3.116s-2.169-2.030-3.116-2.724c-1.612-1.182-2.393-1.319-2.841-1.319h-15.5c-1.378 0-2.5 1.121-2.5 2.5v27c0 1.378 1.122 2.5 2.5 2.5h23c1.378 0 2.5-1.122 2.5-2.5v-19.5c0-0.448-0.137-1.23-1.319-2.841zM24.543 5.457c0.959 0.959 1.712 1.825 2.268 2.543h-4.811v-4.811c0.718 0.556 1.584 1.309 2.543 2.268zM28 29.5c0 0.271-0.229 0.5-0.5 0.5h-23c-0.271 0-0.5-0.229-0.5-0.5v-27c0-0.271 0.229-0.5 0.5-0.5 0 0 15.499-0 15.5 0v7c0 0.552 0.448 1 1 1h7v19.5z\"></path>\n",
              "<path d=\"M23 26h-14c-0.552 0-1-0.448-1-1s0.448-1 1-1h14c0.552 0 1 0.448 1 1s-0.448 1-1 1z\"></path>\n",
              "<path d=\"M23 22h-14c-0.552 0-1-0.448-1-1s0.448-1 1-1h14c0.552 0 1 0.448 1 1s-0.448 1-1 1z\"></path>\n",
              "<path d=\"M23 18h-14c-0.552 0-1-0.448-1-1s0.448-1 1-1h14c0.552 0 1 0.448 1 1s-0.448 1-1 1z\"></path>\n",
              "</symbol>\n",
              "</defs>\n",
              "</svg>\n",
              "<style>/* CSS stylesheet for displaying xarray objects in jupyterlab.\n",
              " *\n",
              " */\n",
              "\n",
              ":root {\n",
              "  --xr-font-color0: var(--jp-content-font-color0, rgba(0, 0, 0, 1));\n",
              "  --xr-font-color2: var(--jp-content-font-color2, rgba(0, 0, 0, 0.54));\n",
              "  --xr-font-color3: var(--jp-content-font-color3, rgba(0, 0, 0, 0.38));\n",
              "  --xr-border-color: var(--jp-border-color2, #e0e0e0);\n",
              "  --xr-disabled-color: var(--jp-layout-color3, #bdbdbd);\n",
              "  --xr-background-color: var(--jp-layout-color0, white);\n",
              "  --xr-background-color-row-even: var(--jp-layout-color1, white);\n",
              "  --xr-background-color-row-odd: var(--jp-layout-color2, #eeeeee);\n",
              "}\n",
              "\n",
              "html[theme=dark],\n",
              "body.vscode-dark {\n",
              "  --xr-font-color0: rgba(255, 255, 255, 1);\n",
              "  --xr-font-color2: rgba(255, 255, 255, 0.54);\n",
              "  --xr-font-color3: rgba(255, 255, 255, 0.38);\n",
              "  --xr-border-color: #1F1F1F;\n",
              "  --xr-disabled-color: #515151;\n",
              "  --xr-background-color: #111111;\n",
              "  --xr-background-color-row-even: #111111;\n",
              "  --xr-background-color-row-odd: #313131;\n",
              "}\n",
              "\n",
              ".xr-wrap {\n",
              "  display: block !important;\n",
              "  min-width: 300px;\n",
              "  max-width: 700px;\n",
              "}\n",
              "\n",
              ".xr-text-repr-fallback {\n",
              "  /* fallback to plain text repr when CSS is not injected (untrusted notebook) */\n",
              "  display: none;\n",
              "}\n",
              "\n",
              ".xr-header {\n",
              "  padding-top: 6px;\n",
              "  padding-bottom: 6px;\n",
              "  margin-bottom: 4px;\n",
              "  border-bottom: solid 1px var(--xr-border-color);\n",
              "}\n",
              "\n",
              ".xr-header > div,\n",
              ".xr-header > ul {\n",
              "  display: inline;\n",
              "  margin-top: 0;\n",
              "  margin-bottom: 0;\n",
              "}\n",
              "\n",
              ".xr-obj-type,\n",
              ".xr-array-name {\n",
              "  margin-left: 2px;\n",
              "  margin-right: 10px;\n",
              "}\n",
              "\n",
              ".xr-obj-type {\n",
              "  color: var(--xr-font-color2);\n",
              "}\n",
              "\n",
              ".xr-sections {\n",
              "  padding-left: 0 !important;\n",
              "  display: grid;\n",
              "  grid-template-columns: 150px auto auto 1fr 20px 20px;\n",
              "}\n",
              "\n",
              ".xr-section-item {\n",
              "  display: contents;\n",
              "}\n",
              "\n",
              ".xr-section-item input {\n",
              "  display: none;\n",
              "}\n",
              "\n",
              ".xr-section-item input + label {\n",
              "  color: var(--xr-disabled-color);\n",
              "}\n",
              "\n",
              ".xr-section-item input:enabled + label {\n",
              "  cursor: pointer;\n",
              "  color: var(--xr-font-color2);\n",
              "}\n",
              "\n",
              ".xr-section-item input:enabled + label:hover {\n",
              "  color: var(--xr-font-color0);\n",
              "}\n",
              "\n",
              ".xr-section-summary {\n",
              "  grid-column: 1;\n",
              "  color: var(--xr-font-color2);\n",
              "  font-weight: 500;\n",
              "}\n",
              "\n",
              ".xr-section-summary > span {\n",
              "  display: inline-block;\n",
              "  padding-left: 0.5em;\n",
              "}\n",
              "\n",
              ".xr-section-summary-in:disabled + label {\n",
              "  color: var(--xr-font-color2);\n",
              "}\n",
              "\n",
              ".xr-section-summary-in + label:before {\n",
              "  display: inline-block;\n",
              "  content: '►';\n",
              "  font-size: 11px;\n",
              "  width: 15px;\n",
              "  text-align: center;\n",
              "}\n",
              "\n",
              ".xr-section-summary-in:disabled + label:before {\n",
              "  color: var(--xr-disabled-color);\n",
              "}\n",
              "\n",
              ".xr-section-summary-in:checked + label:before {\n",
              "  content: '▼';\n",
              "}\n",
              "\n",
              ".xr-section-summary-in:checked + label > span {\n",
              "  display: none;\n",
              "}\n",
              "\n",
              ".xr-section-summary,\n",
              ".xr-section-inline-details {\n",
              "  padding-top: 4px;\n",
              "  padding-bottom: 4px;\n",
              "}\n",
              "\n",
              ".xr-section-inline-details {\n",
              "  grid-column: 2 / -1;\n",
              "}\n",
              "\n",
              ".xr-section-details {\n",
              "  display: none;\n",
              "  grid-column: 1 / -1;\n",
              "  margin-bottom: 5px;\n",
              "}\n",
              "\n",
              ".xr-section-summary-in:checked ~ .xr-section-details {\n",
              "  display: contents;\n",
              "}\n",
              "\n",
              ".xr-array-wrap {\n",
              "  grid-column: 1 / -1;\n",
              "  display: grid;\n",
              "  grid-template-columns: 20px auto;\n",
              "}\n",
              "\n",
              ".xr-array-wrap > label {\n",
              "  grid-column: 1;\n",
              "  vertical-align: top;\n",
              "}\n",
              "\n",
              ".xr-preview {\n",
              "  color: var(--xr-font-color3);\n",
              "}\n",
              "\n",
              ".xr-array-preview,\n",
              ".xr-array-data {\n",
              "  padding: 0 5px !important;\n",
              "  grid-column: 2;\n",
              "}\n",
              "\n",
              ".xr-array-data,\n",
              ".xr-array-in:checked ~ .xr-array-preview {\n",
              "  display: none;\n",
              "}\n",
              "\n",
              ".xr-array-in:checked ~ .xr-array-data,\n",
              ".xr-array-preview {\n",
              "  display: inline-block;\n",
              "}\n",
              "\n",
              ".xr-dim-list {\n",
              "  display: inline-block !important;\n",
              "  list-style: none;\n",
              "  padding: 0 !important;\n",
              "  margin: 0;\n",
              "}\n",
              "\n",
              ".xr-dim-list li {\n",
              "  display: inline-block;\n",
              "  padding: 0;\n",
              "  margin: 0;\n",
              "}\n",
              "\n",
              ".xr-dim-list:before {\n",
              "  content: '(';\n",
              "}\n",
              "\n",
              ".xr-dim-list:after {\n",
              "  content: ')';\n",
              "}\n",
              "\n",
              ".xr-dim-list li:not(:last-child):after {\n",
              "  content: ',';\n",
              "  padding-right: 5px;\n",
              "}\n",
              "\n",
              ".xr-has-index {\n",
              "  font-weight: bold;\n",
              "}\n",
              "\n",
              ".xr-var-list,\n",
              ".xr-var-item {\n",
              "  display: contents;\n",
              "}\n",
              "\n",
              ".xr-var-item > div,\n",
              ".xr-var-item label,\n",
              ".xr-var-item > .xr-var-name span {\n",
              "  background-color: var(--xr-background-color-row-even);\n",
              "  margin-bottom: 0;\n",
              "}\n",
              "\n",
              ".xr-var-item > .xr-var-name:hover span {\n",
              "  padding-right: 5px;\n",
              "}\n",
              "\n",
              ".xr-var-list > li:nth-child(odd) > div,\n",
              ".xr-var-list > li:nth-child(odd) > label,\n",
              ".xr-var-list > li:nth-child(odd) > .xr-var-name span {\n",
              "  background-color: var(--xr-background-color-row-odd);\n",
              "}\n",
              "\n",
              ".xr-var-name {\n",
              "  grid-column: 1;\n",
              "}\n",
              "\n",
              ".xr-var-dims {\n",
              "  grid-column: 2;\n",
              "}\n",
              "\n",
              ".xr-var-dtype {\n",
              "  grid-column: 3;\n",
              "  text-align: right;\n",
              "  color: var(--xr-font-color2);\n",
              "}\n",
              "\n",
              ".xr-var-preview {\n",
              "  grid-column: 4;\n",
              "}\n",
              "\n",
              ".xr-var-name,\n",
              ".xr-var-dims,\n",
              ".xr-var-dtype,\n",
              ".xr-preview,\n",
              ".xr-attrs dt {\n",
              "  white-space: nowrap;\n",
              "  overflow: hidden;\n",
              "  text-overflow: ellipsis;\n",
              "  padding-right: 10px;\n",
              "}\n",
              "\n",
              ".xr-var-name:hover,\n",
              ".xr-var-dims:hover,\n",
              ".xr-var-dtype:hover,\n",
              ".xr-attrs dt:hover {\n",
              "  overflow: visible;\n",
              "  width: auto;\n",
              "  z-index: 1;\n",
              "}\n",
              "\n",
              ".xr-var-attrs,\n",
              ".xr-var-data {\n",
              "  display: none;\n",
              "  background-color: var(--xr-background-color) !important;\n",
              "  padding-bottom: 5px !important;\n",
              "}\n",
              "\n",
              ".xr-var-attrs-in:checked ~ .xr-var-attrs,\n",
              ".xr-var-data-in:checked ~ .xr-var-data {\n",
              "  display: block;\n",
              "}\n",
              "\n",
              ".xr-var-data > table {\n",
              "  float: right;\n",
              "}\n",
              "\n",
              ".xr-var-name span,\n",
              ".xr-var-data,\n",
              ".xr-attrs {\n",
              "  padding-left: 25px !important;\n",
              "}\n",
              "\n",
              ".xr-attrs,\n",
              ".xr-var-attrs,\n",
              ".xr-var-data {\n",
              "  grid-column: 1 / -1;\n",
              "}\n",
              "\n",
              "dl.xr-attrs {\n",
              "  padding: 0;\n",
              "  margin: 0;\n",
              "  display: grid;\n",
              "  grid-template-columns: 125px auto;\n",
              "}\n",
              "\n",
              ".xr-attrs dt,\n",
              ".xr-attrs dd {\n",
              "  padding: 0;\n",
              "  margin: 0;\n",
              "  float: left;\n",
              "  padding-right: 10px;\n",
              "  width: auto;\n",
              "}\n",
              "\n",
              ".xr-attrs dt {\n",
              "  font-weight: normal;\n",
              "  grid-column: 1;\n",
              "}\n",
              "\n",
              ".xr-attrs dt:hover span {\n",
              "  display: inline-block;\n",
              "  background: var(--xr-background-color);\n",
              "  padding-right: 10px;\n",
              "}\n",
              "\n",
              ".xr-attrs dd {\n",
              "  grid-column: 2;\n",
              "  white-space: pre-wrap;\n",
              "  word-break: break-all;\n",
              "}\n",
              "\n",
              ".xr-icon-database,\n",
              ".xr-icon-file-text2 {\n",
              "  display: inline-block;\n",
              "  vertical-align: middle;\n",
              "  width: 1em;\n",
              "  height: 1.5em !important;\n",
              "  stroke-width: 0;\n",
              "  stroke: currentColor;\n",
              "  fill: currentColor;\n",
              "}\n",
              "</style><pre class='xr-text-repr-fallback'>&lt;xarray.Dataset&gt;\n",
              "Dimensions:  (chain: 2, draw: 10000)\n",
              "Coordinates:\n",
              "  * chain    (chain) int64 0 1\n",
              "  * draw     (draw) int64 0 1 2 3 4 5 6 7 ... 9993 9994 9995 9996 9997 9998 9999\n",
              "Data variables:\n",
              "    P        (chain, draw) float64 0.4575 0.4587 0.4586 ... 0.4601 0.4568 0.4605\n",
              "Attributes:\n",
              "    created_at:                 2022-09-25T17:32:58.081512\n",
              "    arviz_version:              0.12.1\n",
              "    inference_library:          pymc\n",
              "    inference_library_version:  4.1.4\n",
              "    sampling_time:              24.946308612823486\n",
              "    tuning_steps:               1000</pre><div class='xr-wrap' style='display:none'><div class='xr-header'><div class='xr-obj-type'>xarray.Dataset</div></div><ul class='xr-sections'><li class='xr-section-item'><input id='section-3b842fd0-6821-4e08-a5e8-ce85bbda60c3' class='xr-section-summary-in' type='checkbox' disabled ><label for='section-3b842fd0-6821-4e08-a5e8-ce85bbda60c3' class='xr-section-summary'  title='Expand/collapse section'>Dimensions:</label><div class='xr-section-inline-details'><ul class='xr-dim-list'><li><span class='xr-has-index'>chain</span>: 2</li><li><span class='xr-has-index'>draw</span>: 10000</li></ul></div><div class='xr-section-details'></div></li><li class='xr-section-item'><input id='section-330cb787-57db-4119-8432-1f7d64999cc9' class='xr-section-summary-in' type='checkbox'  checked><label for='section-330cb787-57db-4119-8432-1f7d64999cc9' class='xr-section-summary' >Coordinates: <span>(2)</span></label><div class='xr-section-inline-details'></div><div class='xr-section-details'><ul class='xr-var-list'><li class='xr-var-item'><div class='xr-var-name'><span class='xr-has-index'>chain</span></div><div class='xr-var-dims'>(chain)</div><div class='xr-var-dtype'>int64</div><div class='xr-var-preview xr-preview'>0 1</div><input id='attrs-3d0a5dd4-ff05-4ea1-a403-e6118dc09df8' class='xr-var-attrs-in' type='checkbox' disabled><label for='attrs-3d0a5dd4-ff05-4ea1-a403-e6118dc09df8' title='Show/Hide attributes'><svg class='icon xr-icon-file-text2'><use xlink:href='#icon-file-text2'></use></svg></label><input id='data-9561bae0-9b0d-497e-9873-e5d6f81e57a9' class='xr-var-data-in' type='checkbox'><label for='data-9561bae0-9b0d-497e-9873-e5d6f81e57a9' title='Show/Hide data repr'><svg class='icon xr-icon-database'><use xlink:href='#icon-database'></use></svg></label><div class='xr-var-attrs'><dl class='xr-attrs'></dl></div><div class='xr-var-data'><pre>array([0, 1])</pre></div></li><li class='xr-var-item'><div class='xr-var-name'><span class='xr-has-index'>draw</span></div><div class='xr-var-dims'>(draw)</div><div class='xr-var-dtype'>int64</div><div class='xr-var-preview xr-preview'>0 1 2 3 4 ... 9996 9997 9998 9999</div><input id='attrs-de660a41-512a-4aa9-b325-4c3aca18a2ae' class='xr-var-attrs-in' type='checkbox' disabled><label for='attrs-de660a41-512a-4aa9-b325-4c3aca18a2ae' title='Show/Hide attributes'><svg class='icon xr-icon-file-text2'><use xlink:href='#icon-file-text2'></use></svg></label><input id='data-c83022ec-a5a2-464a-8f98-e9fe66ce9dbc' class='xr-var-data-in' type='checkbox'><label for='data-c83022ec-a5a2-464a-8f98-e9fe66ce9dbc' title='Show/Hide data repr'><svg class='icon xr-icon-database'><use xlink:href='#icon-database'></use></svg></label><div class='xr-var-attrs'><dl class='xr-attrs'></dl></div><div class='xr-var-data'><pre>array([   0,    1,    2, ..., 9997, 9998, 9999])</pre></div></li></ul></div></li><li class='xr-section-item'><input id='section-c063853a-164b-470c-8ec9-1caf4c45c76c' class='xr-section-summary-in' type='checkbox'  checked><label for='section-c063853a-164b-470c-8ec9-1caf4c45c76c' class='xr-section-summary' >Data variables: <span>(1)</span></label><div class='xr-section-inline-details'></div><div class='xr-section-details'><ul class='xr-var-list'><li class='xr-var-item'><div class='xr-var-name'><span>P</span></div><div class='xr-var-dims'>(chain, draw)</div><div class='xr-var-dtype'>float64</div><div class='xr-var-preview xr-preview'>0.4575 0.4587 ... 0.4568 0.4605</div><input id='attrs-34b09b51-875b-4b87-b8c5-0e1e60b4e7b5' class='xr-var-attrs-in' type='checkbox' disabled><label for='attrs-34b09b51-875b-4b87-b8c5-0e1e60b4e7b5' title='Show/Hide attributes'><svg class='icon xr-icon-file-text2'><use xlink:href='#icon-file-text2'></use></svg></label><input id='data-acf5a1c5-1ce9-4a21-b705-38d3239bee28' class='xr-var-data-in' type='checkbox'><label for='data-acf5a1c5-1ce9-4a21-b705-38d3239bee28' title='Show/Hide data repr'><svg class='icon xr-icon-database'><use xlink:href='#icon-database'></use></svg></label><div class='xr-var-attrs'><dl class='xr-attrs'></dl></div><div class='xr-var-data'><pre>array([[0.45747686, 0.45866342, 0.45856532, ..., 0.4588694 , 0.45804537,\n",
              "        0.4600582 ],\n",
              "       [0.45846745, 0.45906369, 0.46019175, ..., 0.46005173, 0.45678459,\n",
              "        0.46046175]])</pre></div></li></ul></div></li><li class='xr-section-item'><input id='section-b3806062-ff8c-4b70-b44a-0e98c2f9d97c' class='xr-section-summary-in' type='checkbox'  checked><label for='section-b3806062-ff8c-4b70-b44a-0e98c2f9d97c' class='xr-section-summary' >Attributes: <span>(6)</span></label><div class='xr-section-inline-details'></div><div class='xr-section-details'><dl class='xr-attrs'><dt><span>created_at :</span></dt><dd>2022-09-25T17:32:58.081512</dd><dt><span>arviz_version :</span></dt><dd>0.12.1</dd><dt><span>inference_library :</span></dt><dd>pymc</dd><dt><span>inference_library_version :</span></dt><dd>4.1.4</dd><dt><span>sampling_time :</span></dt><dd>24.946308612823486</dd><dt><span>tuning_steps :</span></dt><dd>1000</dd></dl></div></li></ul></div></div><br></div>\n",
              "                      </ul>\n",
              "                  </div>\n",
              "            </li>\n",
              "            \n",
              "            <li class = \"xr-section-item\">\n",
              "                  <input id=\"idata_log_likelihood3e6b8b90-457f-49bf-b21d-4368a56ce221\" class=\"xr-section-summary-in\" type=\"checkbox\">\n",
              "                  <label for=\"idata_log_likelihood3e6b8b90-457f-49bf-b21d-4368a56ce221\" class = \"xr-section-summary\">log_likelihood</label>\n",
              "                  <div class=\"xr-section-inline-details\"></div>\n",
              "                  <div class=\"xr-section-details\">\n",
              "                      <ul id=\"xr-dataset-coord-list\" class=\"xr-var-list\">\n",
              "                          <div style=\"padding-left:2rem;\"><div><svg style=\"position: absolute; width: 0; height: 0; overflow: hidden\">\n",
              "<defs>\n",
              "<symbol id=\"icon-database\" viewBox=\"0 0 32 32\">\n",
              "<path d=\"M16 0c-8.837 0-16 2.239-16 5v4c0 2.761 7.163 5 16 5s16-2.239 16-5v-4c0-2.761-7.163-5-16-5z\"></path>\n",
              "<path d=\"M16 17c-8.837 0-16-2.239-16-5v6c0 2.761 7.163 5 16 5s16-2.239 16-5v-6c0 2.761-7.163 5-16 5z\"></path>\n",
              "<path d=\"M16 26c-8.837 0-16-2.239-16-5v6c0 2.761 7.163 5 16 5s16-2.239 16-5v-6c0 2.761-7.163 5-16 5z\"></path>\n",
              "</symbol>\n",
              "<symbol id=\"icon-file-text2\" viewBox=\"0 0 32 32\">\n",
              "<path d=\"M28.681 7.159c-0.694-0.947-1.662-2.053-2.724-3.116s-2.169-2.030-3.116-2.724c-1.612-1.182-2.393-1.319-2.841-1.319h-15.5c-1.378 0-2.5 1.121-2.5 2.5v27c0 1.378 1.122 2.5 2.5 2.5h23c1.378 0 2.5-1.122 2.5-2.5v-19.5c0-0.448-0.137-1.23-1.319-2.841zM24.543 5.457c0.959 0.959 1.712 1.825 2.268 2.543h-4.811v-4.811c0.718 0.556 1.584 1.309 2.543 2.268zM28 29.5c0 0.271-0.229 0.5-0.5 0.5h-23c-0.271 0-0.5-0.229-0.5-0.5v-27c0-0.271 0.229-0.5 0.5-0.5 0 0 15.499-0 15.5 0v7c0 0.552 0.448 1 1 1h7v19.5z\"></path>\n",
              "<path d=\"M23 26h-14c-0.552 0-1-0.448-1-1s0.448-1 1-1h14c0.552 0 1 0.448 1 1s-0.448 1-1 1z\"></path>\n",
              "<path d=\"M23 22h-14c-0.552 0-1-0.448-1-1s0.448-1 1-1h14c0.552 0 1 0.448 1 1s-0.448 1-1 1z\"></path>\n",
              "<path d=\"M23 18h-14c-0.552 0-1-0.448-1-1s0.448-1 1-1h14c0.552 0 1 0.448 1 1s-0.448 1-1 1z\"></path>\n",
              "</symbol>\n",
              "</defs>\n",
              "</svg>\n",
              "<style>/* CSS stylesheet for displaying xarray objects in jupyterlab.\n",
              " *\n",
              " */\n",
              "\n",
              ":root {\n",
              "  --xr-font-color0: var(--jp-content-font-color0, rgba(0, 0, 0, 1));\n",
              "  --xr-font-color2: var(--jp-content-font-color2, rgba(0, 0, 0, 0.54));\n",
              "  --xr-font-color3: var(--jp-content-font-color3, rgba(0, 0, 0, 0.38));\n",
              "  --xr-border-color: var(--jp-border-color2, #e0e0e0);\n",
              "  --xr-disabled-color: var(--jp-layout-color3, #bdbdbd);\n",
              "  --xr-background-color: var(--jp-layout-color0, white);\n",
              "  --xr-background-color-row-even: var(--jp-layout-color1, white);\n",
              "  --xr-background-color-row-odd: var(--jp-layout-color2, #eeeeee);\n",
              "}\n",
              "\n",
              "html[theme=dark],\n",
              "body.vscode-dark {\n",
              "  --xr-font-color0: rgba(255, 255, 255, 1);\n",
              "  --xr-font-color2: rgba(255, 255, 255, 0.54);\n",
              "  --xr-font-color3: rgba(255, 255, 255, 0.38);\n",
              "  --xr-border-color: #1F1F1F;\n",
              "  --xr-disabled-color: #515151;\n",
              "  --xr-background-color: #111111;\n",
              "  --xr-background-color-row-even: #111111;\n",
              "  --xr-background-color-row-odd: #313131;\n",
              "}\n",
              "\n",
              ".xr-wrap {\n",
              "  display: block !important;\n",
              "  min-width: 300px;\n",
              "  max-width: 700px;\n",
              "}\n",
              "\n",
              ".xr-text-repr-fallback {\n",
              "  /* fallback to plain text repr when CSS is not injected (untrusted notebook) */\n",
              "  display: none;\n",
              "}\n",
              "\n",
              ".xr-header {\n",
              "  padding-top: 6px;\n",
              "  padding-bottom: 6px;\n",
              "  margin-bottom: 4px;\n",
              "  border-bottom: solid 1px var(--xr-border-color);\n",
              "}\n",
              "\n",
              ".xr-header > div,\n",
              ".xr-header > ul {\n",
              "  display: inline;\n",
              "  margin-top: 0;\n",
              "  margin-bottom: 0;\n",
              "}\n",
              "\n",
              ".xr-obj-type,\n",
              ".xr-array-name {\n",
              "  margin-left: 2px;\n",
              "  margin-right: 10px;\n",
              "}\n",
              "\n",
              ".xr-obj-type {\n",
              "  color: var(--xr-font-color2);\n",
              "}\n",
              "\n",
              ".xr-sections {\n",
              "  padding-left: 0 !important;\n",
              "  display: grid;\n",
              "  grid-template-columns: 150px auto auto 1fr 20px 20px;\n",
              "}\n",
              "\n",
              ".xr-section-item {\n",
              "  display: contents;\n",
              "}\n",
              "\n",
              ".xr-section-item input {\n",
              "  display: none;\n",
              "}\n",
              "\n",
              ".xr-section-item input + label {\n",
              "  color: var(--xr-disabled-color);\n",
              "}\n",
              "\n",
              ".xr-section-item input:enabled + label {\n",
              "  cursor: pointer;\n",
              "  color: var(--xr-font-color2);\n",
              "}\n",
              "\n",
              ".xr-section-item input:enabled + label:hover {\n",
              "  color: var(--xr-font-color0);\n",
              "}\n",
              "\n",
              ".xr-section-summary {\n",
              "  grid-column: 1;\n",
              "  color: var(--xr-font-color2);\n",
              "  font-weight: 500;\n",
              "}\n",
              "\n",
              ".xr-section-summary > span {\n",
              "  display: inline-block;\n",
              "  padding-left: 0.5em;\n",
              "}\n",
              "\n",
              ".xr-section-summary-in:disabled + label {\n",
              "  color: var(--xr-font-color2);\n",
              "}\n",
              "\n",
              ".xr-section-summary-in + label:before {\n",
              "  display: inline-block;\n",
              "  content: '►';\n",
              "  font-size: 11px;\n",
              "  width: 15px;\n",
              "  text-align: center;\n",
              "}\n",
              "\n",
              ".xr-section-summary-in:disabled + label:before {\n",
              "  color: var(--xr-disabled-color);\n",
              "}\n",
              "\n",
              ".xr-section-summary-in:checked + label:before {\n",
              "  content: '▼';\n",
              "}\n",
              "\n",
              ".xr-section-summary-in:checked + label > span {\n",
              "  display: none;\n",
              "}\n",
              "\n",
              ".xr-section-summary,\n",
              ".xr-section-inline-details {\n",
              "  padding-top: 4px;\n",
              "  padding-bottom: 4px;\n",
              "}\n",
              "\n",
              ".xr-section-inline-details {\n",
              "  grid-column: 2 / -1;\n",
              "}\n",
              "\n",
              ".xr-section-details {\n",
              "  display: none;\n",
              "  grid-column: 1 / -1;\n",
              "  margin-bottom: 5px;\n",
              "}\n",
              "\n",
              ".xr-section-summary-in:checked ~ .xr-section-details {\n",
              "  display: contents;\n",
              "}\n",
              "\n",
              ".xr-array-wrap {\n",
              "  grid-column: 1 / -1;\n",
              "  display: grid;\n",
              "  grid-template-columns: 20px auto;\n",
              "}\n",
              "\n",
              ".xr-array-wrap > label {\n",
              "  grid-column: 1;\n",
              "  vertical-align: top;\n",
              "}\n",
              "\n",
              ".xr-preview {\n",
              "  color: var(--xr-font-color3);\n",
              "}\n",
              "\n",
              ".xr-array-preview,\n",
              ".xr-array-data {\n",
              "  padding: 0 5px !important;\n",
              "  grid-column: 2;\n",
              "}\n",
              "\n",
              ".xr-array-data,\n",
              ".xr-array-in:checked ~ .xr-array-preview {\n",
              "  display: none;\n",
              "}\n",
              "\n",
              ".xr-array-in:checked ~ .xr-array-data,\n",
              ".xr-array-preview {\n",
              "  display: inline-block;\n",
              "}\n",
              "\n",
              ".xr-dim-list {\n",
              "  display: inline-block !important;\n",
              "  list-style: none;\n",
              "  padding: 0 !important;\n",
              "  margin: 0;\n",
              "}\n",
              "\n",
              ".xr-dim-list li {\n",
              "  display: inline-block;\n",
              "  padding: 0;\n",
              "  margin: 0;\n",
              "}\n",
              "\n",
              ".xr-dim-list:before {\n",
              "  content: '(';\n",
              "}\n",
              "\n",
              ".xr-dim-list:after {\n",
              "  content: ')';\n",
              "}\n",
              "\n",
              ".xr-dim-list li:not(:last-child):after {\n",
              "  content: ',';\n",
              "  padding-right: 5px;\n",
              "}\n",
              "\n",
              ".xr-has-index {\n",
              "  font-weight: bold;\n",
              "}\n",
              "\n",
              ".xr-var-list,\n",
              ".xr-var-item {\n",
              "  display: contents;\n",
              "}\n",
              "\n",
              ".xr-var-item > div,\n",
              ".xr-var-item label,\n",
              ".xr-var-item > .xr-var-name span {\n",
              "  background-color: var(--xr-background-color-row-even);\n",
              "  margin-bottom: 0;\n",
              "}\n",
              "\n",
              ".xr-var-item > .xr-var-name:hover span {\n",
              "  padding-right: 5px;\n",
              "}\n",
              "\n",
              ".xr-var-list > li:nth-child(odd) > div,\n",
              ".xr-var-list > li:nth-child(odd) > label,\n",
              ".xr-var-list > li:nth-child(odd) > .xr-var-name span {\n",
              "  background-color: var(--xr-background-color-row-odd);\n",
              "}\n",
              "\n",
              ".xr-var-name {\n",
              "  grid-column: 1;\n",
              "}\n",
              "\n",
              ".xr-var-dims {\n",
              "  grid-column: 2;\n",
              "}\n",
              "\n",
              ".xr-var-dtype {\n",
              "  grid-column: 3;\n",
              "  text-align: right;\n",
              "  color: var(--xr-font-color2);\n",
              "}\n",
              "\n",
              ".xr-var-preview {\n",
              "  grid-column: 4;\n",
              "}\n",
              "\n",
              ".xr-var-name,\n",
              ".xr-var-dims,\n",
              ".xr-var-dtype,\n",
              ".xr-preview,\n",
              ".xr-attrs dt {\n",
              "  white-space: nowrap;\n",
              "  overflow: hidden;\n",
              "  text-overflow: ellipsis;\n",
              "  padding-right: 10px;\n",
              "}\n",
              "\n",
              ".xr-var-name:hover,\n",
              ".xr-var-dims:hover,\n",
              ".xr-var-dtype:hover,\n",
              ".xr-attrs dt:hover {\n",
              "  overflow: visible;\n",
              "  width: auto;\n",
              "  z-index: 1;\n",
              "}\n",
              "\n",
              ".xr-var-attrs,\n",
              ".xr-var-data {\n",
              "  display: none;\n",
              "  background-color: var(--xr-background-color) !important;\n",
              "  padding-bottom: 5px !important;\n",
              "}\n",
              "\n",
              ".xr-var-attrs-in:checked ~ .xr-var-attrs,\n",
              ".xr-var-data-in:checked ~ .xr-var-data {\n",
              "  display: block;\n",
              "}\n",
              "\n",
              ".xr-var-data > table {\n",
              "  float: right;\n",
              "}\n",
              "\n",
              ".xr-var-name span,\n",
              ".xr-var-data,\n",
              ".xr-attrs {\n",
              "  padding-left: 25px !important;\n",
              "}\n",
              "\n",
              ".xr-attrs,\n",
              ".xr-var-attrs,\n",
              ".xr-var-data {\n",
              "  grid-column: 1 / -1;\n",
              "}\n",
              "\n",
              "dl.xr-attrs {\n",
              "  padding: 0;\n",
              "  margin: 0;\n",
              "  display: grid;\n",
              "  grid-template-columns: 125px auto;\n",
              "}\n",
              "\n",
              ".xr-attrs dt,\n",
              ".xr-attrs dd {\n",
              "  padding: 0;\n",
              "  margin: 0;\n",
              "  float: left;\n",
              "  padding-right: 10px;\n",
              "  width: auto;\n",
              "}\n",
              "\n",
              ".xr-attrs dt {\n",
              "  font-weight: normal;\n",
              "  grid-column: 1;\n",
              "}\n",
              "\n",
              ".xr-attrs dt:hover span {\n",
              "  display: inline-block;\n",
              "  background: var(--xr-background-color);\n",
              "  padding-right: 10px;\n",
              "}\n",
              "\n",
              ".xr-attrs dd {\n",
              "  grid-column: 2;\n",
              "  white-space: pre-wrap;\n",
              "  word-break: break-all;\n",
              "}\n",
              "\n",
              ".xr-icon-database,\n",
              ".xr-icon-file-text2 {\n",
              "  display: inline-block;\n",
              "  vertical-align: middle;\n",
              "  width: 1em;\n",
              "  height: 1.5em !important;\n",
              "  stroke-width: 0;\n",
              "  stroke: currentColor;\n",
              "  fill: currentColor;\n",
              "}\n",
              "</style><pre class='xr-text-repr-fallback'>&lt;xarray.Dataset&gt;\n",
              "Dimensions:        (chain: 2, draw: 10000, Distrib_dim_0: 10000)\n",
              "Coordinates:\n",
              "  * chain          (chain) int64 0 1\n",
              "  * draw           (draw) int64 0 1 2 3 4 5 6 ... 9994 9995 9996 9997 9998 9999\n",
              "  * Distrib_dim_0  (Distrib_dim_0) int64 0 1 2 3 4 ... 9995 9996 9997 9998 9999\n",
              "Data variables:\n",
              "    Distrib        (chain, draw, Distrib_dim_0) float64 -1.614 -1.614 ... -1.899\n",
              "Attributes:\n",
              "    created_at:                 2022-09-25T17:33:02.823710\n",
              "    arviz_version:              0.12.1\n",
              "    inference_library:          pymc\n",
              "    inference_library_version:  4.1.4</pre><div class='xr-wrap' style='display:none'><div class='xr-header'><div class='xr-obj-type'>xarray.Dataset</div></div><ul class='xr-sections'><li class='xr-section-item'><input id='section-a0a7de67-d070-487d-b545-c1d0e406668d' class='xr-section-summary-in' type='checkbox' disabled ><label for='section-a0a7de67-d070-487d-b545-c1d0e406668d' class='xr-section-summary'  title='Expand/collapse section'>Dimensions:</label><div class='xr-section-inline-details'><ul class='xr-dim-list'><li><span class='xr-has-index'>chain</span>: 2</li><li><span class='xr-has-index'>draw</span>: 10000</li><li><span class='xr-has-index'>Distrib_dim_0</span>: 10000</li></ul></div><div class='xr-section-details'></div></li><li class='xr-section-item'><input id='section-bb7bfa65-1d0f-4531-a5d6-ab30fb021d9b' class='xr-section-summary-in' type='checkbox'  checked><label for='section-bb7bfa65-1d0f-4531-a5d6-ab30fb021d9b' class='xr-section-summary' >Coordinates: <span>(3)</span></label><div class='xr-section-inline-details'></div><div class='xr-section-details'><ul class='xr-var-list'><li class='xr-var-item'><div class='xr-var-name'><span class='xr-has-index'>chain</span></div><div class='xr-var-dims'>(chain)</div><div class='xr-var-dtype'>int64</div><div class='xr-var-preview xr-preview'>0 1</div><input id='attrs-b21f10bf-44a5-4714-a7c5-e61b1fd96489' class='xr-var-attrs-in' type='checkbox' disabled><label for='attrs-b21f10bf-44a5-4714-a7c5-e61b1fd96489' title='Show/Hide attributes'><svg class='icon xr-icon-file-text2'><use xlink:href='#icon-file-text2'></use></svg></label><input id='data-64b2e661-3892-498b-b590-69c84feacf1d' class='xr-var-data-in' type='checkbox'><label for='data-64b2e661-3892-498b-b590-69c84feacf1d' title='Show/Hide data repr'><svg class='icon xr-icon-database'><use xlink:href='#icon-database'></use></svg></label><div class='xr-var-attrs'><dl class='xr-attrs'></dl></div><div class='xr-var-data'><pre>array([0, 1])</pre></div></li><li class='xr-var-item'><div class='xr-var-name'><span class='xr-has-index'>draw</span></div><div class='xr-var-dims'>(draw)</div><div class='xr-var-dtype'>int64</div><div class='xr-var-preview xr-preview'>0 1 2 3 4 ... 9996 9997 9998 9999</div><input id='attrs-ce97f096-0398-4130-b53a-6d7e2afdabbf' class='xr-var-attrs-in' type='checkbox' disabled><label for='attrs-ce97f096-0398-4130-b53a-6d7e2afdabbf' title='Show/Hide attributes'><svg class='icon xr-icon-file-text2'><use xlink:href='#icon-file-text2'></use></svg></label><input id='data-a9722c7d-9694-4a6e-b051-af2a6d309cf9' class='xr-var-data-in' type='checkbox'><label for='data-a9722c7d-9694-4a6e-b051-af2a6d309cf9' title='Show/Hide data repr'><svg class='icon xr-icon-database'><use xlink:href='#icon-database'></use></svg></label><div class='xr-var-attrs'><dl class='xr-attrs'></dl></div><div class='xr-var-data'><pre>array([   0,    1,    2, ..., 9997, 9998, 9999])</pre></div></li><li class='xr-var-item'><div class='xr-var-name'><span class='xr-has-index'>Distrib_dim_0</span></div><div class='xr-var-dims'>(Distrib_dim_0)</div><div class='xr-var-dtype'>int64</div><div class='xr-var-preview xr-preview'>0 1 2 3 4 ... 9996 9997 9998 9999</div><input id='attrs-43e9c68d-55a7-43b9-b9cf-c48c1561bf23' class='xr-var-attrs-in' type='checkbox' disabled><label for='attrs-43e9c68d-55a7-43b9-b9cf-c48c1561bf23' title='Show/Hide attributes'><svg class='icon xr-icon-file-text2'><use xlink:href='#icon-file-text2'></use></svg></label><input id='data-6df369c5-124c-4ddb-bdb3-63603c2f0273' class='xr-var-data-in' type='checkbox'><label for='data-6df369c5-124c-4ddb-bdb3-63603c2f0273' title='Show/Hide data repr'><svg class='icon xr-icon-database'><use xlink:href='#icon-database'></use></svg></label><div class='xr-var-attrs'><dl class='xr-attrs'></dl></div><div class='xr-var-data'><pre>array([   0,    1,    2, ..., 9997, 9998, 9999])</pre></div></li></ul></div></li><li class='xr-section-item'><input id='section-f772a8af-7b26-4b5e-a44e-e82d95364c1b' class='xr-section-summary-in' type='checkbox'  checked><label for='section-f772a8af-7b26-4b5e-a44e-e82d95364c1b' class='xr-section-summary' >Data variables: <span>(1)</span></label><div class='xr-section-inline-details'></div><div class='xr-section-details'><ul class='xr-var-list'><li class='xr-var-item'><div class='xr-var-name'><span>Distrib</span></div><div class='xr-var-dims'>(chain, draw, Distrib_dim_0)</div><div class='xr-var-dtype'>float64</div><div class='xr-var-preview xr-preview'>-1.614 -1.614 ... -1.829 -1.899</div><input id='attrs-65b773f2-44d4-4e26-bde5-58c773e7ee14' class='xr-var-attrs-in' type='checkbox' disabled><label for='attrs-65b773f2-44d4-4e26-bde5-58c773e7ee14' title='Show/Hide attributes'><svg class='icon xr-icon-file-text2'><use xlink:href='#icon-file-text2'></use></svg></label><input id='data-6c01979c-72e0-461d-88d9-e96c2784d47f' class='xr-var-data-in' type='checkbox'><label for='data-6c01979c-72e0-461d-88d9-e96c2784d47f' title='Show/Hide data repr'><svg class='icon xr-icon-database'><use xlink:href='#icon-database'></use></svg></label><div class='xr-var-attrs'><dl class='xr-attrs'></dl></div><div class='xr-var-data'><pre>array([[[-1.61397614, -1.61397614, -2.49398148, ..., -1.81196379,\n",
              "         -1.81196379, -1.91801195],\n",
              "        [-1.61117027, -1.61117027, -2.48161592, ..., -1.81871763,\n",
              "         -1.81871763, -1.91042624],\n",
              "        [-1.6113992 , -1.6113992 , -2.48263505, ..., -1.81815635,\n",
              "         -1.81815635, -1.91105027],\n",
              "        ...,\n",
              "        [-1.6106914 , -1.6106914 , -2.47947793, ..., -1.81989787,\n",
              "         -1.81989787, -1.9091178 ],\n",
              "        [-1.61262173, -1.61262173, -2.48804631, ..., -1.81519015,\n",
              "         -1.81519015, -1.91436716],\n",
              "        [-1.60797492, -1.60797492, -2.4671881 , ..., -1.82675475,\n",
              "         -1.82675475, -1.90161465]],\n",
              "\n",
              "       [[-1.61162813, -1.61162813, -2.48365235, ..., -1.81759691,\n",
              "         -1.81759691, -1.91167338],\n",
              "        [-1.61024191, -1.61024191, -2.47746354, ..., -1.82101327,\n",
              "         -1.82101327, -1.90788587],\n",
              "        [-1.6076748 , -1.6076748 , -2.46581277, ..., -1.82752984,\n",
              "         -1.82752984, -1.90077693],\n",
              "        ...,\n",
              "        [-1.6079895 , -1.6079895 , -2.46725481, ..., -1.82671719,\n",
              "         -1.82671719, -1.9016553 ],\n",
              "        [-1.61565036, -1.61565036, -2.50123487, ..., -1.80805885,\n",
              "         -1.80805885, -1.92247576],\n",
              "        [-1.60707114, -1.60707114, -2.46303543, ..., -1.82909986,\n",
              "         -1.82909986, -1.89908643]]])</pre></div></li></ul></div></li><li class='xr-section-item'><input id='section-e3b8c3cc-4e72-4159-ac57-cb900ddf39a7' class='xr-section-summary-in' type='checkbox'  checked><label for='section-e3b8c3cc-4e72-4159-ac57-cb900ddf39a7' class='xr-section-summary' >Attributes: <span>(4)</span></label><div class='xr-section-inline-details'></div><div class='xr-section-details'><dl class='xr-attrs'><dt><span>created_at :</span></dt><dd>2022-09-25T17:33:02.823710</dd><dt><span>arviz_version :</span></dt><dd>0.12.1</dd><dt><span>inference_library :</span></dt><dd>pymc</dd><dt><span>inference_library_version :</span></dt><dd>4.1.4</dd></dl></div></li></ul></div></div><br></div>\n",
              "                      </ul>\n",
              "                  </div>\n",
              "            </li>\n",
              "            \n",
              "            <li class = \"xr-section-item\">\n",
              "                  <input id=\"idata_sample_stats026ea28e-3f1f-4361-bf02-d54ba9a48e36\" class=\"xr-section-summary-in\" type=\"checkbox\">\n",
              "                  <label for=\"idata_sample_stats026ea28e-3f1f-4361-bf02-d54ba9a48e36\" class = \"xr-section-summary\">sample_stats</label>\n",
              "                  <div class=\"xr-section-inline-details\"></div>\n",
              "                  <div class=\"xr-section-details\">\n",
              "                      <ul id=\"xr-dataset-coord-list\" class=\"xr-var-list\">\n",
              "                          <div style=\"padding-left:2rem;\"><div><svg style=\"position: absolute; width: 0; height: 0; overflow: hidden\">\n",
              "<defs>\n",
              "<symbol id=\"icon-database\" viewBox=\"0 0 32 32\">\n",
              "<path d=\"M16 0c-8.837 0-16 2.239-16 5v4c0 2.761 7.163 5 16 5s16-2.239 16-5v-4c0-2.761-7.163-5-16-5z\"></path>\n",
              "<path d=\"M16 17c-8.837 0-16-2.239-16-5v6c0 2.761 7.163 5 16 5s16-2.239 16-5v-6c0 2.761-7.163 5-16 5z\"></path>\n",
              "<path d=\"M16 26c-8.837 0-16-2.239-16-5v6c0 2.761 7.163 5 16 5s16-2.239 16-5v-6c0 2.761-7.163 5-16 5z\"></path>\n",
              "</symbol>\n",
              "<symbol id=\"icon-file-text2\" viewBox=\"0 0 32 32\">\n",
              "<path d=\"M28.681 7.159c-0.694-0.947-1.662-2.053-2.724-3.116s-2.169-2.030-3.116-2.724c-1.612-1.182-2.393-1.319-2.841-1.319h-15.5c-1.378 0-2.5 1.121-2.5 2.5v27c0 1.378 1.122 2.5 2.5 2.5h23c1.378 0 2.5-1.122 2.5-2.5v-19.5c0-0.448-0.137-1.23-1.319-2.841zM24.543 5.457c0.959 0.959 1.712 1.825 2.268 2.543h-4.811v-4.811c0.718 0.556 1.584 1.309 2.543 2.268zM28 29.5c0 0.271-0.229 0.5-0.5 0.5h-23c-0.271 0-0.5-0.229-0.5-0.5v-27c0-0.271 0.229-0.5 0.5-0.5 0 0 15.499-0 15.5 0v7c0 0.552 0.448 1 1 1h7v19.5z\"></path>\n",
              "<path d=\"M23 26h-14c-0.552 0-1-0.448-1-1s0.448-1 1-1h14c0.552 0 1 0.448 1 1s-0.448 1-1 1z\"></path>\n",
              "<path d=\"M23 22h-14c-0.552 0-1-0.448-1-1s0.448-1 1-1h14c0.552 0 1 0.448 1 1s-0.448 1-1 1z\"></path>\n",
              "<path d=\"M23 18h-14c-0.552 0-1-0.448-1-1s0.448-1 1-1h14c0.552 0 1 0.448 1 1s-0.448 1-1 1z\"></path>\n",
              "</symbol>\n",
              "</defs>\n",
              "</svg>\n",
              "<style>/* CSS stylesheet for displaying xarray objects in jupyterlab.\n",
              " *\n",
              " */\n",
              "\n",
              ":root {\n",
              "  --xr-font-color0: var(--jp-content-font-color0, rgba(0, 0, 0, 1));\n",
              "  --xr-font-color2: var(--jp-content-font-color2, rgba(0, 0, 0, 0.54));\n",
              "  --xr-font-color3: var(--jp-content-font-color3, rgba(0, 0, 0, 0.38));\n",
              "  --xr-border-color: var(--jp-border-color2, #e0e0e0);\n",
              "  --xr-disabled-color: var(--jp-layout-color3, #bdbdbd);\n",
              "  --xr-background-color: var(--jp-layout-color0, white);\n",
              "  --xr-background-color-row-even: var(--jp-layout-color1, white);\n",
              "  --xr-background-color-row-odd: var(--jp-layout-color2, #eeeeee);\n",
              "}\n",
              "\n",
              "html[theme=dark],\n",
              "body.vscode-dark {\n",
              "  --xr-font-color0: rgba(255, 255, 255, 1);\n",
              "  --xr-font-color2: rgba(255, 255, 255, 0.54);\n",
              "  --xr-font-color3: rgba(255, 255, 255, 0.38);\n",
              "  --xr-border-color: #1F1F1F;\n",
              "  --xr-disabled-color: #515151;\n",
              "  --xr-background-color: #111111;\n",
              "  --xr-background-color-row-even: #111111;\n",
              "  --xr-background-color-row-odd: #313131;\n",
              "}\n",
              "\n",
              ".xr-wrap {\n",
              "  display: block !important;\n",
              "  min-width: 300px;\n",
              "  max-width: 700px;\n",
              "}\n",
              "\n",
              ".xr-text-repr-fallback {\n",
              "  /* fallback to plain text repr when CSS is not injected (untrusted notebook) */\n",
              "  display: none;\n",
              "}\n",
              "\n",
              ".xr-header {\n",
              "  padding-top: 6px;\n",
              "  padding-bottom: 6px;\n",
              "  margin-bottom: 4px;\n",
              "  border-bottom: solid 1px var(--xr-border-color);\n",
              "}\n",
              "\n",
              ".xr-header > div,\n",
              ".xr-header > ul {\n",
              "  display: inline;\n",
              "  margin-top: 0;\n",
              "  margin-bottom: 0;\n",
              "}\n",
              "\n",
              ".xr-obj-type,\n",
              ".xr-array-name {\n",
              "  margin-left: 2px;\n",
              "  margin-right: 10px;\n",
              "}\n",
              "\n",
              ".xr-obj-type {\n",
              "  color: var(--xr-font-color2);\n",
              "}\n",
              "\n",
              ".xr-sections {\n",
              "  padding-left: 0 !important;\n",
              "  display: grid;\n",
              "  grid-template-columns: 150px auto auto 1fr 20px 20px;\n",
              "}\n",
              "\n",
              ".xr-section-item {\n",
              "  display: contents;\n",
              "}\n",
              "\n",
              ".xr-section-item input {\n",
              "  display: none;\n",
              "}\n",
              "\n",
              ".xr-section-item input + label {\n",
              "  color: var(--xr-disabled-color);\n",
              "}\n",
              "\n",
              ".xr-section-item input:enabled + label {\n",
              "  cursor: pointer;\n",
              "  color: var(--xr-font-color2);\n",
              "}\n",
              "\n",
              ".xr-section-item input:enabled + label:hover {\n",
              "  color: var(--xr-font-color0);\n",
              "}\n",
              "\n",
              ".xr-section-summary {\n",
              "  grid-column: 1;\n",
              "  color: var(--xr-font-color2);\n",
              "  font-weight: 500;\n",
              "}\n",
              "\n",
              ".xr-section-summary > span {\n",
              "  display: inline-block;\n",
              "  padding-left: 0.5em;\n",
              "}\n",
              "\n",
              ".xr-section-summary-in:disabled + label {\n",
              "  color: var(--xr-font-color2);\n",
              "}\n",
              "\n",
              ".xr-section-summary-in + label:before {\n",
              "  display: inline-block;\n",
              "  content: '►';\n",
              "  font-size: 11px;\n",
              "  width: 15px;\n",
              "  text-align: center;\n",
              "}\n",
              "\n",
              ".xr-section-summary-in:disabled + label:before {\n",
              "  color: var(--xr-disabled-color);\n",
              "}\n",
              "\n",
              ".xr-section-summary-in:checked + label:before {\n",
              "  content: '▼';\n",
              "}\n",
              "\n",
              ".xr-section-summary-in:checked + label > span {\n",
              "  display: none;\n",
              "}\n",
              "\n",
              ".xr-section-summary,\n",
              ".xr-section-inline-details {\n",
              "  padding-top: 4px;\n",
              "  padding-bottom: 4px;\n",
              "}\n",
              "\n",
              ".xr-section-inline-details {\n",
              "  grid-column: 2 / -1;\n",
              "}\n",
              "\n",
              ".xr-section-details {\n",
              "  display: none;\n",
              "  grid-column: 1 / -1;\n",
              "  margin-bottom: 5px;\n",
              "}\n",
              "\n",
              ".xr-section-summary-in:checked ~ .xr-section-details {\n",
              "  display: contents;\n",
              "}\n",
              "\n",
              ".xr-array-wrap {\n",
              "  grid-column: 1 / -1;\n",
              "  display: grid;\n",
              "  grid-template-columns: 20px auto;\n",
              "}\n",
              "\n",
              ".xr-array-wrap > label {\n",
              "  grid-column: 1;\n",
              "  vertical-align: top;\n",
              "}\n",
              "\n",
              ".xr-preview {\n",
              "  color: var(--xr-font-color3);\n",
              "}\n",
              "\n",
              ".xr-array-preview,\n",
              ".xr-array-data {\n",
              "  padding: 0 5px !important;\n",
              "  grid-column: 2;\n",
              "}\n",
              "\n",
              ".xr-array-data,\n",
              ".xr-array-in:checked ~ .xr-array-preview {\n",
              "  display: none;\n",
              "}\n",
              "\n",
              ".xr-array-in:checked ~ .xr-array-data,\n",
              ".xr-array-preview {\n",
              "  display: inline-block;\n",
              "}\n",
              "\n",
              ".xr-dim-list {\n",
              "  display: inline-block !important;\n",
              "  list-style: none;\n",
              "  padding: 0 !important;\n",
              "  margin: 0;\n",
              "}\n",
              "\n",
              ".xr-dim-list li {\n",
              "  display: inline-block;\n",
              "  padding: 0;\n",
              "  margin: 0;\n",
              "}\n",
              "\n",
              ".xr-dim-list:before {\n",
              "  content: '(';\n",
              "}\n",
              "\n",
              ".xr-dim-list:after {\n",
              "  content: ')';\n",
              "}\n",
              "\n",
              ".xr-dim-list li:not(:last-child):after {\n",
              "  content: ',';\n",
              "  padding-right: 5px;\n",
              "}\n",
              "\n",
              ".xr-has-index {\n",
              "  font-weight: bold;\n",
              "}\n",
              "\n",
              ".xr-var-list,\n",
              ".xr-var-item {\n",
              "  display: contents;\n",
              "}\n",
              "\n",
              ".xr-var-item > div,\n",
              ".xr-var-item label,\n",
              ".xr-var-item > .xr-var-name span {\n",
              "  background-color: var(--xr-background-color-row-even);\n",
              "  margin-bottom: 0;\n",
              "}\n",
              "\n",
              ".xr-var-item > .xr-var-name:hover span {\n",
              "  padding-right: 5px;\n",
              "}\n",
              "\n",
              ".xr-var-list > li:nth-child(odd) > div,\n",
              ".xr-var-list > li:nth-child(odd) > label,\n",
              ".xr-var-list > li:nth-child(odd) > .xr-var-name span {\n",
              "  background-color: var(--xr-background-color-row-odd);\n",
              "}\n",
              "\n",
              ".xr-var-name {\n",
              "  grid-column: 1;\n",
              "}\n",
              "\n",
              ".xr-var-dims {\n",
              "  grid-column: 2;\n",
              "}\n",
              "\n",
              ".xr-var-dtype {\n",
              "  grid-column: 3;\n",
              "  text-align: right;\n",
              "  color: var(--xr-font-color2);\n",
              "}\n",
              "\n",
              ".xr-var-preview {\n",
              "  grid-column: 4;\n",
              "}\n",
              "\n",
              ".xr-var-name,\n",
              ".xr-var-dims,\n",
              ".xr-var-dtype,\n",
              ".xr-preview,\n",
              ".xr-attrs dt {\n",
              "  white-space: nowrap;\n",
              "  overflow: hidden;\n",
              "  text-overflow: ellipsis;\n",
              "  padding-right: 10px;\n",
              "}\n",
              "\n",
              ".xr-var-name:hover,\n",
              ".xr-var-dims:hover,\n",
              ".xr-var-dtype:hover,\n",
              ".xr-attrs dt:hover {\n",
              "  overflow: visible;\n",
              "  width: auto;\n",
              "  z-index: 1;\n",
              "}\n",
              "\n",
              ".xr-var-attrs,\n",
              ".xr-var-data {\n",
              "  display: none;\n",
              "  background-color: var(--xr-background-color) !important;\n",
              "  padding-bottom: 5px !important;\n",
              "}\n",
              "\n",
              ".xr-var-attrs-in:checked ~ .xr-var-attrs,\n",
              ".xr-var-data-in:checked ~ .xr-var-data {\n",
              "  display: block;\n",
              "}\n",
              "\n",
              ".xr-var-data > table {\n",
              "  float: right;\n",
              "}\n",
              "\n",
              ".xr-var-name span,\n",
              ".xr-var-data,\n",
              ".xr-attrs {\n",
              "  padding-left: 25px !important;\n",
              "}\n",
              "\n",
              ".xr-attrs,\n",
              ".xr-var-attrs,\n",
              ".xr-var-data {\n",
              "  grid-column: 1 / -1;\n",
              "}\n",
              "\n",
              "dl.xr-attrs {\n",
              "  padding: 0;\n",
              "  margin: 0;\n",
              "  display: grid;\n",
              "  grid-template-columns: 125px auto;\n",
              "}\n",
              "\n",
              ".xr-attrs dt,\n",
              ".xr-attrs dd {\n",
              "  padding: 0;\n",
              "  margin: 0;\n",
              "  float: left;\n",
              "  padding-right: 10px;\n",
              "  width: auto;\n",
              "}\n",
              "\n",
              ".xr-attrs dt {\n",
              "  font-weight: normal;\n",
              "  grid-column: 1;\n",
              "}\n",
              "\n",
              ".xr-attrs dt:hover span {\n",
              "  display: inline-block;\n",
              "  background: var(--xr-background-color);\n",
              "  padding-right: 10px;\n",
              "}\n",
              "\n",
              ".xr-attrs dd {\n",
              "  grid-column: 2;\n",
              "  white-space: pre-wrap;\n",
              "  word-break: break-all;\n",
              "}\n",
              "\n",
              ".xr-icon-database,\n",
              ".xr-icon-file-text2 {\n",
              "  display: inline-block;\n",
              "  vertical-align: middle;\n",
              "  width: 1em;\n",
              "  height: 1.5em !important;\n",
              "  stroke-width: 0;\n",
              "  stroke: currentColor;\n",
              "  fill: currentColor;\n",
              "}\n",
              "</style><pre class='xr-text-repr-fallback'>&lt;xarray.Dataset&gt;\n",
              "Dimensions:              (chain: 2, draw: 10000)\n",
              "Coordinates:\n",
              "  * chain                (chain) int64 0 1\n",
              "  * draw                 (draw) int64 0 1 2 3 4 5 ... 9995 9996 9997 9998 9999\n",
              "Data variables: (12/16)\n",
              "    acceptance_rate      (chain, draw) float64 0.9128 1.0 0.9964 ... 0.3901 1.0\n",
              "    smallest_eigval      (chain, draw) float64 nan nan nan nan ... nan nan nan\n",
              "    tree_depth           (chain, draw) int64 2 2 1 2 1 1 1 2 ... 2 1 1 1 1 1 2 2\n",
              "    index_in_trajectory  (chain, draw) int64 2 1 -1 -3 -1 1 ... -1 -1 0 -1 2 -2\n",
              "    diverging            (chain, draw) bool False False False ... False False\n",
              "    perf_counter_diff    (chain, draw) float64 0.001168 0.0011 ... 0.001223\n",
              "    ...                   ...\n",
              "    step_size            (chain, draw) float64 1.523 1.523 1.523 ... 1.47 1.47\n",
              "    n_steps              (chain, draw) float64 3.0 3.0 1.0 3.0 ... 1.0 3.0 3.0\n",
              "    max_energy_error     (chain, draw) float64 0.1404 -0.1808 ... 1.717 -0.2794\n",
              "    largest_eigval       (chain, draw) float64 nan nan nan nan ... nan nan nan\n",
              "    step_size_bar        (chain, draw) float64 1.386 1.386 1.386 ... 1.384 1.384\n",
              "    energy               (chain, draw) float64 2.17e+04 2.17e+04 ... 2.17e+04\n",
              "Attributes:\n",
              "    created_at:                 2022-09-25T17:32:58.090205\n",
              "    arviz_version:              0.12.1\n",
              "    inference_library:          pymc\n",
              "    inference_library_version:  4.1.4\n",
              "    sampling_time:              24.946308612823486\n",
              "    tuning_steps:               1000</pre><div class='xr-wrap' style='display:none'><div class='xr-header'><div class='xr-obj-type'>xarray.Dataset</div></div><ul class='xr-sections'><li class='xr-section-item'><input id='section-a104fda5-ee79-4dc7-afea-500c575c3a87' class='xr-section-summary-in' type='checkbox' disabled ><label for='section-a104fda5-ee79-4dc7-afea-500c575c3a87' class='xr-section-summary'  title='Expand/collapse section'>Dimensions:</label><div class='xr-section-inline-details'><ul class='xr-dim-list'><li><span class='xr-has-index'>chain</span>: 2</li><li><span class='xr-has-index'>draw</span>: 10000</li></ul></div><div class='xr-section-details'></div></li><li class='xr-section-item'><input id='section-d7d3a959-7e13-4a05-8806-e54332ce4715' class='xr-section-summary-in' type='checkbox'  checked><label for='section-d7d3a959-7e13-4a05-8806-e54332ce4715' class='xr-section-summary' >Coordinates: <span>(2)</span></label><div class='xr-section-inline-details'></div><div class='xr-section-details'><ul class='xr-var-list'><li class='xr-var-item'><div class='xr-var-name'><span class='xr-has-index'>chain</span></div><div class='xr-var-dims'>(chain)</div><div class='xr-var-dtype'>int64</div><div class='xr-var-preview xr-preview'>0 1</div><input id='attrs-e3b24626-c1a3-4559-9974-1fab413ef7c1' class='xr-var-attrs-in' type='checkbox' disabled><label for='attrs-e3b24626-c1a3-4559-9974-1fab413ef7c1' title='Show/Hide attributes'><svg class='icon xr-icon-file-text2'><use xlink:href='#icon-file-text2'></use></svg></label><input id='data-8bc24bfd-74d3-4456-8c13-86235718c728' class='xr-var-data-in' type='checkbox'><label for='data-8bc24bfd-74d3-4456-8c13-86235718c728' title='Show/Hide data repr'><svg class='icon xr-icon-database'><use xlink:href='#icon-database'></use></svg></label><div class='xr-var-attrs'><dl class='xr-attrs'></dl></div><div class='xr-var-data'><pre>array([0, 1])</pre></div></li><li class='xr-var-item'><div class='xr-var-name'><span class='xr-has-index'>draw</span></div><div class='xr-var-dims'>(draw)</div><div class='xr-var-dtype'>int64</div><div class='xr-var-preview xr-preview'>0 1 2 3 4 ... 9996 9997 9998 9999</div><input id='attrs-7a205aed-9c47-4d2c-8938-97a1bbfb7ff7' class='xr-var-attrs-in' type='checkbox' disabled><label for='attrs-7a205aed-9c47-4d2c-8938-97a1bbfb7ff7' title='Show/Hide attributes'><svg class='icon xr-icon-file-text2'><use xlink:href='#icon-file-text2'></use></svg></label><input id='data-00e4e6b4-e9f2-4d4c-b5ae-5d3bfa62ce9c' class='xr-var-data-in' type='checkbox'><label for='data-00e4e6b4-e9f2-4d4c-b5ae-5d3bfa62ce9c' title='Show/Hide data repr'><svg class='icon xr-icon-database'><use xlink:href='#icon-database'></use></svg></label><div class='xr-var-attrs'><dl class='xr-attrs'></dl></div><div class='xr-var-data'><pre>array([   0,    1,    2, ..., 9997, 9998, 9999])</pre></div></li></ul></div></li><li class='xr-section-item'><input id='section-7a9646bb-0925-49eb-be2e-4d9ec24d747e' class='xr-section-summary-in' type='checkbox'  ><label for='section-7a9646bb-0925-49eb-be2e-4d9ec24d747e' class='xr-section-summary' >Data variables: <span>(16)</span></label><div class='xr-section-inline-details'></div><div class='xr-section-details'><ul class='xr-var-list'><li class='xr-var-item'><div class='xr-var-name'><span>acceptance_rate</span></div><div class='xr-var-dims'>(chain, draw)</div><div class='xr-var-dtype'>float64</div><div class='xr-var-preview xr-preview'>0.9128 1.0 0.9964 ... 0.3901 1.0</div><input id='attrs-d21863f1-5ab6-4767-b29e-db6026b304f7' class='xr-var-attrs-in' type='checkbox' disabled><label for='attrs-d21863f1-5ab6-4767-b29e-db6026b304f7' title='Show/Hide attributes'><svg class='icon xr-icon-file-text2'><use xlink:href='#icon-file-text2'></use></svg></label><input id='data-3dd7ff66-05c4-47ba-a025-c8b3e611bcd7' class='xr-var-data-in' type='checkbox'><label for='data-3dd7ff66-05c4-47ba-a025-c8b3e611bcd7' title='Show/Hide data repr'><svg class='icon xr-icon-database'><use xlink:href='#icon-database'></use></svg></label><div class='xr-var-attrs'><dl class='xr-attrs'></dl></div><div class='xr-var-data'><pre>array([[0.91282965, 1.        , 0.99641837, ..., 0.88957037, 0.9481438 ,\n",
              "        0.942917  ],\n",
              "       [0.36548373, 1.        , 0.78481791, ..., 0.95944282, 0.39006464,\n",
              "        1.        ]])</pre></div></li><li class='xr-var-item'><div class='xr-var-name'><span>smallest_eigval</span></div><div class='xr-var-dims'>(chain, draw)</div><div class='xr-var-dtype'>float64</div><div class='xr-var-preview xr-preview'>nan nan nan nan ... nan nan nan nan</div><input id='attrs-e5550a7b-22fa-47e7-abef-e05bb4fe6db4' class='xr-var-attrs-in' type='checkbox' disabled><label for='attrs-e5550a7b-22fa-47e7-abef-e05bb4fe6db4' title='Show/Hide attributes'><svg class='icon xr-icon-file-text2'><use xlink:href='#icon-file-text2'></use></svg></label><input id='data-66222e0e-7549-4fb4-b15a-423ce97f9afb' class='xr-var-data-in' type='checkbox'><label for='data-66222e0e-7549-4fb4-b15a-423ce97f9afb' title='Show/Hide data repr'><svg class='icon xr-icon-database'><use xlink:href='#icon-database'></use></svg></label><div class='xr-var-attrs'><dl class='xr-attrs'></dl></div><div class='xr-var-data'><pre>array([[nan, nan, nan, ..., nan, nan, nan],\n",
              "       [nan, nan, nan, ..., nan, nan, nan]])</pre></div></li><li class='xr-var-item'><div class='xr-var-name'><span>tree_depth</span></div><div class='xr-var-dims'>(chain, draw)</div><div class='xr-var-dtype'>int64</div><div class='xr-var-preview xr-preview'>2 2 1 2 1 1 1 2 ... 2 1 1 1 1 1 2 2</div><input id='attrs-59ae78ec-ad3c-445a-ad19-20c6a4222e9a' class='xr-var-attrs-in' type='checkbox' disabled><label for='attrs-59ae78ec-ad3c-445a-ad19-20c6a4222e9a' title='Show/Hide attributes'><svg class='icon xr-icon-file-text2'><use xlink:href='#icon-file-text2'></use></svg></label><input id='data-b9b862a0-7e94-43f7-9865-5a5435e13272' class='xr-var-data-in' type='checkbox'><label for='data-b9b862a0-7e94-43f7-9865-5a5435e13272' title='Show/Hide data repr'><svg class='icon xr-icon-database'><use xlink:href='#icon-database'></use></svg></label><div class='xr-var-attrs'><dl class='xr-attrs'></dl></div><div class='xr-var-data'><pre>array([[2, 2, 1, ..., 2, 2, 2],\n",
              "       [1, 2, 1, ..., 1, 2, 2]])</pre></div></li><li class='xr-var-item'><div class='xr-var-name'><span>index_in_trajectory</span></div><div class='xr-var-dims'>(chain, draw)</div><div class='xr-var-dtype'>int64</div><div class='xr-var-preview xr-preview'>2 1 -1 -3 -1 1 ... -1 -1 0 -1 2 -2</div><input id='attrs-c8ae99f6-28f6-4247-800b-f906053c9da1' class='xr-var-attrs-in' type='checkbox' disabled><label for='attrs-c8ae99f6-28f6-4247-800b-f906053c9da1' title='Show/Hide attributes'><svg class='icon xr-icon-file-text2'><use xlink:href='#icon-file-text2'></use></svg></label><input id='data-11dcd0a6-c6ce-4e4d-9d7d-8a5f98b8c488' class='xr-var-data-in' type='checkbox'><label for='data-11dcd0a6-c6ce-4e4d-9d7d-8a5f98b8c488' title='Show/Hide data repr'><svg class='icon xr-icon-database'><use xlink:href='#icon-database'></use></svg></label><div class='xr-var-attrs'><dl class='xr-attrs'></dl></div><div class='xr-var-data'><pre>array([[ 2,  1, -1, ...,  2, -3, -2],\n",
              "       [ 0, -2,  1, ..., -1,  2, -2]])</pre></div></li><li class='xr-var-item'><div class='xr-var-name'><span>diverging</span></div><div class='xr-var-dims'>(chain, draw)</div><div class='xr-var-dtype'>bool</div><div class='xr-var-preview xr-preview'>False False False ... False False</div><input id='attrs-4621a34c-d379-4d12-b64e-320e4abd882a' class='xr-var-attrs-in' type='checkbox' disabled><label for='attrs-4621a34c-d379-4d12-b64e-320e4abd882a' title='Show/Hide attributes'><svg class='icon xr-icon-file-text2'><use xlink:href='#icon-file-text2'></use></svg></label><input id='data-7c3732d0-a807-416c-ab49-eb1ea41c6176' class='xr-var-data-in' type='checkbox'><label for='data-7c3732d0-a807-416c-ab49-eb1ea41c6176' title='Show/Hide data repr'><svg class='icon xr-icon-database'><use xlink:href='#icon-database'></use></svg></label><div class='xr-var-attrs'><dl class='xr-attrs'></dl></div><div class='xr-var-data'><pre>array([[False, False, False, ..., False, False, False],\n",
              "       [False, False, False, ..., False, False, False]])</pre></div></li><li class='xr-var-item'><div class='xr-var-name'><span>perf_counter_diff</span></div><div class='xr-var-dims'>(chain, draw)</div><div class='xr-var-dtype'>float64</div><div class='xr-var-preview xr-preview'>0.001168 0.0011 ... 0.001223</div><input id='attrs-986faa32-b70e-4459-a8c2-6b92a311de24' class='xr-var-attrs-in' type='checkbox' disabled><label for='attrs-986faa32-b70e-4459-a8c2-6b92a311de24' title='Show/Hide attributes'><svg class='icon xr-icon-file-text2'><use xlink:href='#icon-file-text2'></use></svg></label><input id='data-f4f5873a-2136-4b4b-8408-77301d8b0c2a' class='xr-var-data-in' type='checkbox'><label for='data-f4f5873a-2136-4b4b-8408-77301d8b0c2a' title='Show/Hide data repr'><svg class='icon xr-icon-database'><use xlink:href='#icon-database'></use></svg></label><div class='xr-var-attrs'><dl class='xr-attrs'></dl></div><div class='xr-var-data'><pre>array([[0.0011675 , 0.0011004 , 0.00054879, ..., 0.00111778, 0.00106225,\n",
              "        0.00106497],\n",
              "       [0.00057102, 0.00114599, 0.0005017 , ..., 0.0005671 , 0.00108413,\n",
              "        0.00122343]])</pre></div></li><li class='xr-var-item'><div class='xr-var-name'><span>lp</span></div><div class='xr-var-dims'>(chain, draw)</div><div class='xr-var-dtype'>float64</div><div class='xr-var-preview xr-preview'>-2.17e+04 -2.17e+04 ... -2.17e+04</div><input id='attrs-00842c3e-60f4-4b85-be54-f801eae2a1da' class='xr-var-attrs-in' type='checkbox' disabled><label for='attrs-00842c3e-60f4-4b85-be54-f801eae2a1da' title='Show/Hide attributes'><svg class='icon xr-icon-file-text2'><use xlink:href='#icon-file-text2'></use></svg></label><input id='data-8ca907f0-f6f8-462f-9049-0e94c56f64aa' class='xr-var-data-in' type='checkbox'><label for='data-8ca907f0-f6f8-462f-9049-0e94c56f64aa' title='Show/Hide data repr'><svg class='icon xr-icon-database'><use xlink:href='#icon-database'></use></svg></label><div class='xr-var-attrs'><dl class='xr-attrs'></dl></div><div class='xr-var-data'><pre>array([[-21698.6572678 , -21698.17799464, -21698.18750509, ...,\n",
              "        -21698.17568428, -21698.32853079, -21698.62968074],\n",
              "       [-21698.20240078, -21698.19542888, -21698.73043718, ...,\n",
              "        -21698.62505067, -21699.30385278, -21698.96483118]])</pre></div></li><li class='xr-var-item'><div class='xr-var-name'><span>perf_counter_start</span></div><div class='xr-var-dims'>(chain, draw)</div><div class='xr-var-dtype'>float64</div><div class='xr-var-preview xr-preview'>178.7 178.7 178.7 ... 201.6 201.6</div><input id='attrs-1f7652ad-eb48-4975-a250-fbf16922bd47' class='xr-var-attrs-in' type='checkbox' disabled><label for='attrs-1f7652ad-eb48-4975-a250-fbf16922bd47' title='Show/Hide attributes'><svg class='icon xr-icon-file-text2'><use xlink:href='#icon-file-text2'></use></svg></label><input id='data-6113c3fe-a640-450e-8526-940263ee66c8' class='xr-var-data-in' type='checkbox'><label for='data-6113c3fe-a640-450e-8526-940263ee66c8' title='Show/Hide data repr'><svg class='icon xr-icon-database'><use xlink:href='#icon-database'></use></svg></label><div class='xr-var-attrs'><dl class='xr-attrs'></dl></div><div class='xr-var-data'><pre>array([[178.65476172, 178.65606054, 178.65727998, ..., 189.53507675,\n",
              "        189.53631122, 189.53750493],\n",
              "       [190.99469604, 190.99538479, 190.99664701, ..., 201.56380203,\n",
              "        201.56450563, 201.56572001]])</pre></div></li><li class='xr-var-item'><div class='xr-var-name'><span>process_time_diff</span></div><div class='xr-var-dims'>(chain, draw)</div><div class='xr-var-dtype'>float64</div><div class='xr-var-preview xr-preview'>0.001169 0.001102 ... 0.001208</div><input id='attrs-165bc96a-3087-4709-ad80-bdc9b07aa54f' class='xr-var-attrs-in' type='checkbox' disabled><label for='attrs-165bc96a-3087-4709-ad80-bdc9b07aa54f' title='Show/Hide attributes'><svg class='icon xr-icon-file-text2'><use xlink:href='#icon-file-text2'></use></svg></label><input id='data-5ce06696-fb61-4e45-9059-161e82c20332' class='xr-var-data-in' type='checkbox'><label for='data-5ce06696-fb61-4e45-9059-161e82c20332' title='Show/Hide data repr'><svg class='icon xr-icon-database'><use xlink:href='#icon-database'></use></svg></label><div class='xr-var-attrs'><dl class='xr-attrs'></dl></div><div class='xr-var-data'><pre>array([[0.00116894, 0.00110162, 0.00055003, ..., 0.00111885, 0.00106379,\n",
              "        0.00106568],\n",
              "       [0.00057214, 0.0011467 , 0.00050328, ..., 0.00056864, 0.0010855 ,\n",
              "        0.00120792]])</pre></div></li><li class='xr-var-item'><div class='xr-var-name'><span>energy_error</span></div><div class='xr-var-dims'>(chain, draw)</div><div class='xr-var-dtype'>float64</div><div class='xr-var-preview xr-preview'>0.1363 -0.1808 ... 0.3092 -0.1538</div><input id='attrs-234514e6-b962-46c0-b103-170c6ff33ade' class='xr-var-attrs-in' type='checkbox' disabled><label for='attrs-234514e6-b962-46c0-b103-170c6ff33ade' title='Show/Hide attributes'><svg class='icon xr-icon-file-text2'><use xlink:href='#icon-file-text2'></use></svg></label><input id='data-b8cd1963-ef9a-4d8f-adfa-df59979589ed' class='xr-var-data-in' type='checkbox'><label for='data-b8cd1963-ef9a-4d8f-adfa-df59979589ed' title='Show/Hide data repr'><svg class='icon xr-icon-database'><use xlink:href='#icon-database'></use></svg></label><div class='xr-var-attrs'><dl class='xr-attrs'></dl></div><div class='xr-var-data'><pre>array([[ 0.13627031, -0.18080074,  0.00358806, ..., -0.05713279,\n",
              "         0.05767361,  0.11358589],\n",
              "       [ 0.        , -0.00315725,  0.24230355, ...,  0.04140256,\n",
              "         0.30915024, -0.15376138]])</pre></div></li><li class='xr-var-item'><div class='xr-var-name'><span>step_size</span></div><div class='xr-var-dims'>(chain, draw)</div><div class='xr-var-dtype'>float64</div><div class='xr-var-preview xr-preview'>1.523 1.523 1.523 ... 1.47 1.47</div><input id='attrs-86ab4ece-456b-48dc-bb62-5cb71f33d73e' class='xr-var-attrs-in' type='checkbox' disabled><label for='attrs-86ab4ece-456b-48dc-bb62-5cb71f33d73e' title='Show/Hide attributes'><svg class='icon xr-icon-file-text2'><use xlink:href='#icon-file-text2'></use></svg></label><input id='data-5835cce6-6407-48ee-9a41-04a9d5ef2cb8' class='xr-var-data-in' type='checkbox'><label for='data-5835cce6-6407-48ee-9a41-04a9d5ef2cb8' title='Show/Hide data repr'><svg class='icon xr-icon-database'><use xlink:href='#icon-database'></use></svg></label><div class='xr-var-attrs'><dl class='xr-attrs'></dl></div><div class='xr-var-data'><pre>array([[1.52313004, 1.52313004, 1.52313004, ..., 1.52313004, 1.52313004,\n",
              "        1.52313004],\n",
              "       [1.46976509, 1.46976509, 1.46976509, ..., 1.46976509, 1.46976509,\n",
              "        1.46976509]])</pre></div></li><li class='xr-var-item'><div class='xr-var-name'><span>n_steps</span></div><div class='xr-var-dims'>(chain, draw)</div><div class='xr-var-dtype'>float64</div><div class='xr-var-preview xr-preview'>3.0 3.0 1.0 3.0 ... 1.0 1.0 3.0 3.0</div><input id='attrs-0f34833a-e4b4-4d1f-97f2-e5cb31cb31f6' class='xr-var-attrs-in' type='checkbox' disabled><label for='attrs-0f34833a-e4b4-4d1f-97f2-e5cb31cb31f6' title='Show/Hide attributes'><svg class='icon xr-icon-file-text2'><use xlink:href='#icon-file-text2'></use></svg></label><input id='data-0175037e-01aa-44e4-b1e3-1ba131c11b73' class='xr-var-data-in' type='checkbox'><label for='data-0175037e-01aa-44e4-b1e3-1ba131c11b73' title='Show/Hide data repr'><svg class='icon xr-icon-database'><use xlink:href='#icon-database'></use></svg></label><div class='xr-var-attrs'><dl class='xr-attrs'></dl></div><div class='xr-var-data'><pre>array([[3., 3., 1., ..., 3., 3., 3.],\n",
              "       [1., 3., 1., ..., 1., 3., 3.]])</pre></div></li><li class='xr-var-item'><div class='xr-var-name'><span>max_energy_error</span></div><div class='xr-var-dims'>(chain, draw)</div><div class='xr-var-dtype'>float64</div><div class='xr-var-preview xr-preview'>0.1404 -0.1808 ... 1.717 -0.2794</div><input id='attrs-3c987e40-3eb6-4f23-b794-0037449ad09a' class='xr-var-attrs-in' type='checkbox' disabled><label for='attrs-3c987e40-3eb6-4f23-b794-0037449ad09a' title='Show/Hide attributes'><svg class='icon xr-icon-file-text2'><use xlink:href='#icon-file-text2'></use></svg></label><input id='data-e957e64f-10f3-4f24-be25-1705293399db' class='xr-var-data-in' type='checkbox'><label for='data-e957e64f-10f3-4f24-be25-1705293399db' title='Show/Hide data repr'><svg class='icon xr-icon-database'><use xlink:href='#icon-database'></use></svg></label><div class='xr-var-attrs'><dl class='xr-attrs'></dl></div><div class='xr-var-data'><pre>array([[ 0.1403983 , -0.18080074,  0.00358806, ...,  0.24028245,\n",
              "         0.08975924,  0.11358589],\n",
              "       [ 1.00653353, -0.00973596,  0.24230355, ...,  0.04140256,\n",
              "         1.71655143, -0.27941344]])</pre></div></li><li class='xr-var-item'><div class='xr-var-name'><span>largest_eigval</span></div><div class='xr-var-dims'>(chain, draw)</div><div class='xr-var-dtype'>float64</div><div class='xr-var-preview xr-preview'>nan nan nan nan ... nan nan nan nan</div><input id='attrs-1b8e2aef-28f2-446e-b586-e8b48fc05607' class='xr-var-attrs-in' type='checkbox' disabled><label for='attrs-1b8e2aef-28f2-446e-b586-e8b48fc05607' title='Show/Hide attributes'><svg class='icon xr-icon-file-text2'><use xlink:href='#icon-file-text2'></use></svg></label><input id='data-0cd47a74-f4a4-4fa6-8d8b-2ba2079bbc73' class='xr-var-data-in' type='checkbox'><label for='data-0cd47a74-f4a4-4fa6-8d8b-2ba2079bbc73' title='Show/Hide data repr'><svg class='icon xr-icon-database'><use xlink:href='#icon-database'></use></svg></label><div class='xr-var-attrs'><dl class='xr-attrs'></dl></div><div class='xr-var-data'><pre>array([[nan, nan, nan, ..., nan, nan, nan],\n",
              "       [nan, nan, nan, ..., nan, nan, nan]])</pre></div></li><li class='xr-var-item'><div class='xr-var-name'><span>step_size_bar</span></div><div class='xr-var-dims'>(chain, draw)</div><div class='xr-var-dtype'>float64</div><div class='xr-var-preview xr-preview'>1.386 1.386 1.386 ... 1.384 1.384</div><input id='attrs-19dd4315-8b3c-4acc-b82a-5ab59d3dcbac' class='xr-var-attrs-in' type='checkbox' disabled><label for='attrs-19dd4315-8b3c-4acc-b82a-5ab59d3dcbac' title='Show/Hide attributes'><svg class='icon xr-icon-file-text2'><use xlink:href='#icon-file-text2'></use></svg></label><input id='data-f5ea0304-ea95-4036-bc9a-23adc042f68b' class='xr-var-data-in' type='checkbox'><label for='data-f5ea0304-ea95-4036-bc9a-23adc042f68b' title='Show/Hide data repr'><svg class='icon xr-icon-database'><use xlink:href='#icon-database'></use></svg></label><div class='xr-var-attrs'><dl class='xr-attrs'></dl></div><div class='xr-var-data'><pre>array([[1.38620624, 1.38620624, 1.38620624, ..., 1.38620624, 1.38620624,\n",
              "        1.38620624],\n",
              "       [1.38391896, 1.38391896, 1.38391896, ..., 1.38391896, 1.38391896,\n",
              "        1.38391896]])</pre></div></li><li class='xr-var-item'><div class='xr-var-name'><span>energy</span></div><div class='xr-var-dims'>(chain, draw)</div><div class='xr-var-dtype'>float64</div><div class='xr-var-preview xr-preview'>2.17e+04 2.17e+04 ... 2.17e+04</div><input id='attrs-66fe9c8e-4e6d-4bb3-8a38-28568ffbe127' class='xr-var-attrs-in' type='checkbox' disabled><label for='attrs-66fe9c8e-4e6d-4bb3-8a38-28568ffbe127' title='Show/Hide attributes'><svg class='icon xr-icon-file-text2'><use xlink:href='#icon-file-text2'></use></svg></label><input id='data-200d0169-41c4-48a6-ab63-008ef6ebb108' class='xr-var-data-in' type='checkbox'><label for='data-200d0169-41c4-48a6-ab63-008ef6ebb108' title='Show/Hide data repr'><svg class='icon xr-icon-database'><use xlink:href='#icon-database'></use></svg></label><div class='xr-var-attrs'><dl class='xr-attrs'></dl></div><div class='xr-var-data'><pre>array([[21698.84513103, 21698.48384621, 21698.18838532, ...,\n",
              "        21698.6864436 , 21698.38530291, 21698.74037908],\n",
              "       [21699.42008476, 21698.20483399, 21698.7337104 , ...,\n",
              "        21698.78402628, 21701.42320156, 21699.51895515]])</pre></div></li></ul></div></li><li class='xr-section-item'><input id='section-0017e029-ce09-43e0-b73a-c006719c9bc4' class='xr-section-summary-in' type='checkbox'  checked><label for='section-0017e029-ce09-43e0-b73a-c006719c9bc4' class='xr-section-summary' >Attributes: <span>(6)</span></label><div class='xr-section-inline-details'></div><div class='xr-section-details'><dl class='xr-attrs'><dt><span>created_at :</span></dt><dd>2022-09-25T17:32:58.090205</dd><dt><span>arviz_version :</span></dt><dd>0.12.1</dd><dt><span>inference_library :</span></dt><dd>pymc</dd><dt><span>inference_library_version :</span></dt><dd>4.1.4</dd><dt><span>sampling_time :</span></dt><dd>24.946308612823486</dd><dt><span>tuning_steps :</span></dt><dd>1000</dd></dl></div></li></ul></div></div><br></div>\n",
              "                      </ul>\n",
              "                  </div>\n",
              "            </li>\n",
              "            \n",
              "            <li class = \"xr-section-item\">\n",
              "                  <input id=\"idata_observed_datab4a88fac-7b9e-4e55-8bf0-fd6bc4a02953\" class=\"xr-section-summary-in\" type=\"checkbox\">\n",
              "                  <label for=\"idata_observed_datab4a88fac-7b9e-4e55-8bf0-fd6bc4a02953\" class = \"xr-section-summary\">observed_data</label>\n",
              "                  <div class=\"xr-section-inline-details\"></div>\n",
              "                  <div class=\"xr-section-details\">\n",
              "                      <ul id=\"xr-dataset-coord-list\" class=\"xr-var-list\">\n",
              "                          <div style=\"padding-left:2rem;\"><div><svg style=\"position: absolute; width: 0; height: 0; overflow: hidden\">\n",
              "<defs>\n",
              "<symbol id=\"icon-database\" viewBox=\"0 0 32 32\">\n",
              "<path d=\"M16 0c-8.837 0-16 2.239-16 5v4c0 2.761 7.163 5 16 5s16-2.239 16-5v-4c0-2.761-7.163-5-16-5z\"></path>\n",
              "<path d=\"M16 17c-8.837 0-16-2.239-16-5v6c0 2.761 7.163 5 16 5s16-2.239 16-5v-6c0 2.761-7.163 5-16 5z\"></path>\n",
              "<path d=\"M16 26c-8.837 0-16-2.239-16-5v6c0 2.761 7.163 5 16 5s16-2.239 16-5v-6c0 2.761-7.163 5-16 5z\"></path>\n",
              "</symbol>\n",
              "<symbol id=\"icon-file-text2\" viewBox=\"0 0 32 32\">\n",
              "<path d=\"M28.681 7.159c-0.694-0.947-1.662-2.053-2.724-3.116s-2.169-2.030-3.116-2.724c-1.612-1.182-2.393-1.319-2.841-1.319h-15.5c-1.378 0-2.5 1.121-2.5 2.5v27c0 1.378 1.122 2.5 2.5 2.5h23c1.378 0 2.5-1.122 2.5-2.5v-19.5c0-0.448-0.137-1.23-1.319-2.841zM24.543 5.457c0.959 0.959 1.712 1.825 2.268 2.543h-4.811v-4.811c0.718 0.556 1.584 1.309 2.543 2.268zM28 29.5c0 0.271-0.229 0.5-0.5 0.5h-23c-0.271 0-0.5-0.229-0.5-0.5v-27c0-0.271 0.229-0.5 0.5-0.5 0 0 15.499-0 15.5 0v7c0 0.552 0.448 1 1 1h7v19.5z\"></path>\n",
              "<path d=\"M23 26h-14c-0.552 0-1-0.448-1-1s0.448-1 1-1h14c0.552 0 1 0.448 1 1s-0.448 1-1 1z\"></path>\n",
              "<path d=\"M23 22h-14c-0.552 0-1-0.448-1-1s0.448-1 1-1h14c0.552 0 1 0.448 1 1s-0.448 1-1 1z\"></path>\n",
              "<path d=\"M23 18h-14c-0.552 0-1-0.448-1-1s0.448-1 1-1h14c0.552 0 1 0.448 1 1s-0.448 1-1 1z\"></path>\n",
              "</symbol>\n",
              "</defs>\n",
              "</svg>\n",
              "<style>/* CSS stylesheet for displaying xarray objects in jupyterlab.\n",
              " *\n",
              " */\n",
              "\n",
              ":root {\n",
              "  --xr-font-color0: var(--jp-content-font-color0, rgba(0, 0, 0, 1));\n",
              "  --xr-font-color2: var(--jp-content-font-color2, rgba(0, 0, 0, 0.54));\n",
              "  --xr-font-color3: var(--jp-content-font-color3, rgba(0, 0, 0, 0.38));\n",
              "  --xr-border-color: var(--jp-border-color2, #e0e0e0);\n",
              "  --xr-disabled-color: var(--jp-layout-color3, #bdbdbd);\n",
              "  --xr-background-color: var(--jp-layout-color0, white);\n",
              "  --xr-background-color-row-even: var(--jp-layout-color1, white);\n",
              "  --xr-background-color-row-odd: var(--jp-layout-color2, #eeeeee);\n",
              "}\n",
              "\n",
              "html[theme=dark],\n",
              "body.vscode-dark {\n",
              "  --xr-font-color0: rgba(255, 255, 255, 1);\n",
              "  --xr-font-color2: rgba(255, 255, 255, 0.54);\n",
              "  --xr-font-color3: rgba(255, 255, 255, 0.38);\n",
              "  --xr-border-color: #1F1F1F;\n",
              "  --xr-disabled-color: #515151;\n",
              "  --xr-background-color: #111111;\n",
              "  --xr-background-color-row-even: #111111;\n",
              "  --xr-background-color-row-odd: #313131;\n",
              "}\n",
              "\n",
              ".xr-wrap {\n",
              "  display: block !important;\n",
              "  min-width: 300px;\n",
              "  max-width: 700px;\n",
              "}\n",
              "\n",
              ".xr-text-repr-fallback {\n",
              "  /* fallback to plain text repr when CSS is not injected (untrusted notebook) */\n",
              "  display: none;\n",
              "}\n",
              "\n",
              ".xr-header {\n",
              "  padding-top: 6px;\n",
              "  padding-bottom: 6px;\n",
              "  margin-bottom: 4px;\n",
              "  border-bottom: solid 1px var(--xr-border-color);\n",
              "}\n",
              "\n",
              ".xr-header > div,\n",
              ".xr-header > ul {\n",
              "  display: inline;\n",
              "  margin-top: 0;\n",
              "  margin-bottom: 0;\n",
              "}\n",
              "\n",
              ".xr-obj-type,\n",
              ".xr-array-name {\n",
              "  margin-left: 2px;\n",
              "  margin-right: 10px;\n",
              "}\n",
              "\n",
              ".xr-obj-type {\n",
              "  color: var(--xr-font-color2);\n",
              "}\n",
              "\n",
              ".xr-sections {\n",
              "  padding-left: 0 !important;\n",
              "  display: grid;\n",
              "  grid-template-columns: 150px auto auto 1fr 20px 20px;\n",
              "}\n",
              "\n",
              ".xr-section-item {\n",
              "  display: contents;\n",
              "}\n",
              "\n",
              ".xr-section-item input {\n",
              "  display: none;\n",
              "}\n",
              "\n",
              ".xr-section-item input + label {\n",
              "  color: var(--xr-disabled-color);\n",
              "}\n",
              "\n",
              ".xr-section-item input:enabled + label {\n",
              "  cursor: pointer;\n",
              "  color: var(--xr-font-color2);\n",
              "}\n",
              "\n",
              ".xr-section-item input:enabled + label:hover {\n",
              "  color: var(--xr-font-color0);\n",
              "}\n",
              "\n",
              ".xr-section-summary {\n",
              "  grid-column: 1;\n",
              "  color: var(--xr-font-color2);\n",
              "  font-weight: 500;\n",
              "}\n",
              "\n",
              ".xr-section-summary > span {\n",
              "  display: inline-block;\n",
              "  padding-left: 0.5em;\n",
              "}\n",
              "\n",
              ".xr-section-summary-in:disabled + label {\n",
              "  color: var(--xr-font-color2);\n",
              "}\n",
              "\n",
              ".xr-section-summary-in + label:before {\n",
              "  display: inline-block;\n",
              "  content: '►';\n",
              "  font-size: 11px;\n",
              "  width: 15px;\n",
              "  text-align: center;\n",
              "}\n",
              "\n",
              ".xr-section-summary-in:disabled + label:before {\n",
              "  color: var(--xr-disabled-color);\n",
              "}\n",
              "\n",
              ".xr-section-summary-in:checked + label:before {\n",
              "  content: '▼';\n",
              "}\n",
              "\n",
              ".xr-section-summary-in:checked + label > span {\n",
              "  display: none;\n",
              "}\n",
              "\n",
              ".xr-section-summary,\n",
              ".xr-section-inline-details {\n",
              "  padding-top: 4px;\n",
              "  padding-bottom: 4px;\n",
              "}\n",
              "\n",
              ".xr-section-inline-details {\n",
              "  grid-column: 2 / -1;\n",
              "}\n",
              "\n",
              ".xr-section-details {\n",
              "  display: none;\n",
              "  grid-column: 1 / -1;\n",
              "  margin-bottom: 5px;\n",
              "}\n",
              "\n",
              ".xr-section-summary-in:checked ~ .xr-section-details {\n",
              "  display: contents;\n",
              "}\n",
              "\n",
              ".xr-array-wrap {\n",
              "  grid-column: 1 / -1;\n",
              "  display: grid;\n",
              "  grid-template-columns: 20px auto;\n",
              "}\n",
              "\n",
              ".xr-array-wrap > label {\n",
              "  grid-column: 1;\n",
              "  vertical-align: top;\n",
              "}\n",
              "\n",
              ".xr-preview {\n",
              "  color: var(--xr-font-color3);\n",
              "}\n",
              "\n",
              ".xr-array-preview,\n",
              ".xr-array-data {\n",
              "  padding: 0 5px !important;\n",
              "  grid-column: 2;\n",
              "}\n",
              "\n",
              ".xr-array-data,\n",
              ".xr-array-in:checked ~ .xr-array-preview {\n",
              "  display: none;\n",
              "}\n",
              "\n",
              ".xr-array-in:checked ~ .xr-array-data,\n",
              ".xr-array-preview {\n",
              "  display: inline-block;\n",
              "}\n",
              "\n",
              ".xr-dim-list {\n",
              "  display: inline-block !important;\n",
              "  list-style: none;\n",
              "  padding: 0 !important;\n",
              "  margin: 0;\n",
              "}\n",
              "\n",
              ".xr-dim-list li {\n",
              "  display: inline-block;\n",
              "  padding: 0;\n",
              "  margin: 0;\n",
              "}\n",
              "\n",
              ".xr-dim-list:before {\n",
              "  content: '(';\n",
              "}\n",
              "\n",
              ".xr-dim-list:after {\n",
              "  content: ')';\n",
              "}\n",
              "\n",
              ".xr-dim-list li:not(:last-child):after {\n",
              "  content: ',';\n",
              "  padding-right: 5px;\n",
              "}\n",
              "\n",
              ".xr-has-index {\n",
              "  font-weight: bold;\n",
              "}\n",
              "\n",
              ".xr-var-list,\n",
              ".xr-var-item {\n",
              "  display: contents;\n",
              "}\n",
              "\n",
              ".xr-var-item > div,\n",
              ".xr-var-item label,\n",
              ".xr-var-item > .xr-var-name span {\n",
              "  background-color: var(--xr-background-color-row-even);\n",
              "  margin-bottom: 0;\n",
              "}\n",
              "\n",
              ".xr-var-item > .xr-var-name:hover span {\n",
              "  padding-right: 5px;\n",
              "}\n",
              "\n",
              ".xr-var-list > li:nth-child(odd) > div,\n",
              ".xr-var-list > li:nth-child(odd) > label,\n",
              ".xr-var-list > li:nth-child(odd) > .xr-var-name span {\n",
              "  background-color: var(--xr-background-color-row-odd);\n",
              "}\n",
              "\n",
              ".xr-var-name {\n",
              "  grid-column: 1;\n",
              "}\n",
              "\n",
              ".xr-var-dims {\n",
              "  grid-column: 2;\n",
              "}\n",
              "\n",
              ".xr-var-dtype {\n",
              "  grid-column: 3;\n",
              "  text-align: right;\n",
              "  color: var(--xr-font-color2);\n",
              "}\n",
              "\n",
              ".xr-var-preview {\n",
              "  grid-column: 4;\n",
              "}\n",
              "\n",
              ".xr-var-name,\n",
              ".xr-var-dims,\n",
              ".xr-var-dtype,\n",
              ".xr-preview,\n",
              ".xr-attrs dt {\n",
              "  white-space: nowrap;\n",
              "  overflow: hidden;\n",
              "  text-overflow: ellipsis;\n",
              "  padding-right: 10px;\n",
              "}\n",
              "\n",
              ".xr-var-name:hover,\n",
              ".xr-var-dims:hover,\n",
              ".xr-var-dtype:hover,\n",
              ".xr-attrs dt:hover {\n",
              "  overflow: visible;\n",
              "  width: auto;\n",
              "  z-index: 1;\n",
              "}\n",
              "\n",
              ".xr-var-attrs,\n",
              ".xr-var-data {\n",
              "  display: none;\n",
              "  background-color: var(--xr-background-color) !important;\n",
              "  padding-bottom: 5px !important;\n",
              "}\n",
              "\n",
              ".xr-var-attrs-in:checked ~ .xr-var-attrs,\n",
              ".xr-var-data-in:checked ~ .xr-var-data {\n",
              "  display: block;\n",
              "}\n",
              "\n",
              ".xr-var-data > table {\n",
              "  float: right;\n",
              "}\n",
              "\n",
              ".xr-var-name span,\n",
              ".xr-var-data,\n",
              ".xr-attrs {\n",
              "  padding-left: 25px !important;\n",
              "}\n",
              "\n",
              ".xr-attrs,\n",
              ".xr-var-attrs,\n",
              ".xr-var-data {\n",
              "  grid-column: 1 / -1;\n",
              "}\n",
              "\n",
              "dl.xr-attrs {\n",
              "  padding: 0;\n",
              "  margin: 0;\n",
              "  display: grid;\n",
              "  grid-template-columns: 125px auto;\n",
              "}\n",
              "\n",
              ".xr-attrs dt,\n",
              ".xr-attrs dd {\n",
              "  padding: 0;\n",
              "  margin: 0;\n",
              "  float: left;\n",
              "  padding-right: 10px;\n",
              "  width: auto;\n",
              "}\n",
              "\n",
              ".xr-attrs dt {\n",
              "  font-weight: normal;\n",
              "  grid-column: 1;\n",
              "}\n",
              "\n",
              ".xr-attrs dt:hover span {\n",
              "  display: inline-block;\n",
              "  background: var(--xr-background-color);\n",
              "  padding-right: 10px;\n",
              "}\n",
              "\n",
              ".xr-attrs dd {\n",
              "  grid-column: 2;\n",
              "  white-space: pre-wrap;\n",
              "  word-break: break-all;\n",
              "}\n",
              "\n",
              ".xr-icon-database,\n",
              ".xr-icon-file-text2 {\n",
              "  display: inline-block;\n",
              "  vertical-align: middle;\n",
              "  width: 1em;\n",
              "  height: 1.5em !important;\n",
              "  stroke-width: 0;\n",
              "  stroke: currentColor;\n",
              "  fill: currentColor;\n",
              "}\n",
              "</style><pre class='xr-text-repr-fallback'>&lt;xarray.Dataset&gt;\n",
              "Dimensions:        (Distrib_dim_0: 10000)\n",
              "Coordinates:\n",
              "  * Distrib_dim_0  (Distrib_dim_0) int64 0 1 2 3 4 ... 9995 9996 9997 9998 9999\n",
              "Data variables:\n",
              "    Distrib        (Distrib_dim_0) int64 7 7 9 6 6 8 8 2 2 ... 7 7 6 7 13 5 5 8\n",
              "Attributes:\n",
              "    created_at:                 2022-09-25T17:33:02.825518\n",
              "    arviz_version:              0.12.1\n",
              "    inference_library:          pymc\n",
              "    inference_library_version:  4.1.4</pre><div class='xr-wrap' style='display:none'><div class='xr-header'><div class='xr-obj-type'>xarray.Dataset</div></div><ul class='xr-sections'><li class='xr-section-item'><input id='section-8bdf1328-f149-4419-8bb6-f8ccc97ac0a5' class='xr-section-summary-in' type='checkbox' disabled ><label for='section-8bdf1328-f149-4419-8bb6-f8ccc97ac0a5' class='xr-section-summary'  title='Expand/collapse section'>Dimensions:</label><div class='xr-section-inline-details'><ul class='xr-dim-list'><li><span class='xr-has-index'>Distrib_dim_0</span>: 10000</li></ul></div><div class='xr-section-details'></div></li><li class='xr-section-item'><input id='section-9e0971b4-bb79-4605-a608-ac461cdbb4b7' class='xr-section-summary-in' type='checkbox'  checked><label for='section-9e0971b4-bb79-4605-a608-ac461cdbb4b7' class='xr-section-summary' >Coordinates: <span>(1)</span></label><div class='xr-section-inline-details'></div><div class='xr-section-details'><ul class='xr-var-list'><li class='xr-var-item'><div class='xr-var-name'><span class='xr-has-index'>Distrib_dim_0</span></div><div class='xr-var-dims'>(Distrib_dim_0)</div><div class='xr-var-dtype'>int64</div><div class='xr-var-preview xr-preview'>0 1 2 3 4 ... 9996 9997 9998 9999</div><input id='attrs-27406201-0f22-43c2-aa02-2b1f945f70be' class='xr-var-attrs-in' type='checkbox' disabled><label for='attrs-27406201-0f22-43c2-aa02-2b1f945f70be' title='Show/Hide attributes'><svg class='icon xr-icon-file-text2'><use xlink:href='#icon-file-text2'></use></svg></label><input id='data-8c811fbc-973e-4867-a73f-7cea7175eb62' class='xr-var-data-in' type='checkbox'><label for='data-8c811fbc-973e-4867-a73f-7cea7175eb62' title='Show/Hide data repr'><svg class='icon xr-icon-database'><use xlink:href='#icon-database'></use></svg></label><div class='xr-var-attrs'><dl class='xr-attrs'></dl></div><div class='xr-var-data'><pre>array([   0,    1,    2, ..., 9997, 9998, 9999])</pre></div></li></ul></div></li><li class='xr-section-item'><input id='section-28f3486f-ecdd-45ac-bae0-992a4c64e2e9' class='xr-section-summary-in' type='checkbox'  checked><label for='section-28f3486f-ecdd-45ac-bae0-992a4c64e2e9' class='xr-section-summary' >Data variables: <span>(1)</span></label><div class='xr-section-inline-details'></div><div class='xr-section-details'><ul class='xr-var-list'><li class='xr-var-item'><div class='xr-var-name'><span>Distrib</span></div><div class='xr-var-dims'>(Distrib_dim_0)</div><div class='xr-var-dtype'>int64</div><div class='xr-var-preview xr-preview'>7 7 9 6 6 8 8 2 ... 7 6 7 13 5 5 8</div><input id='attrs-ce438394-0e72-48c3-b85d-e13995b7a1a0' class='xr-var-attrs-in' type='checkbox' disabled><label for='attrs-ce438394-0e72-48c3-b85d-e13995b7a1a0' title='Show/Hide attributes'><svg class='icon xr-icon-file-text2'><use xlink:href='#icon-file-text2'></use></svg></label><input id='data-0b1485ee-d1c9-4000-8fa6-370cf254c155' class='xr-var-data-in' type='checkbox'><label for='data-0b1485ee-d1c9-4000-8fa6-370cf254c155' title='Show/Hide data repr'><svg class='icon xr-icon-database'><use xlink:href='#icon-database'></use></svg></label><div class='xr-var-attrs'><dl class='xr-attrs'></dl></div><div class='xr-var-data'><pre>array([7, 7, 9, ..., 5, 5, 8])</pre></div></li></ul></div></li><li class='xr-section-item'><input id='section-f00b91d6-087b-441f-a5b2-06233d9dde81' class='xr-section-summary-in' type='checkbox'  checked><label for='section-f00b91d6-087b-441f-a5b2-06233d9dde81' class='xr-section-summary' >Attributes: <span>(4)</span></label><div class='xr-section-inline-details'></div><div class='xr-section-details'><dl class='xr-attrs'><dt><span>created_at :</span></dt><dd>2022-09-25T17:33:02.825518</dd><dt><span>arviz_version :</span></dt><dd>0.12.1</dd><dt><span>inference_library :</span></dt><dd>pymc</dd><dt><span>inference_library_version :</span></dt><dd>4.1.4</dd></dl></div></li></ul></div></div><br></div>\n",
              "                      </ul>\n",
              "                  </div>\n",
              "            </li>\n",
              "            \n",
              "              </ul>\n",
              "            </div>\n",
              "            <style> /* CSS stylesheet for displaying InferenceData objects in jupyterlab.\n",
              " *\n",
              " */\n",
              "\n",
              ":root {\n",
              "  --xr-font-color0: var(--jp-content-font-color0, rgba(0, 0, 0, 1));\n",
              "  --xr-font-color2: var(--jp-content-font-color2, rgba(0, 0, 0, 0.54));\n",
              "  --xr-font-color3: var(--jp-content-font-color3, rgba(0, 0, 0, 0.38));\n",
              "  --xr-border-color: var(--jp-border-color2, #e0e0e0);\n",
              "  --xr-disabled-color: var(--jp-layout-color3, #bdbdbd);\n",
              "  --xr-background-color: var(--jp-layout-color0, white);\n",
              "  --xr-background-color-row-even: var(--jp-layout-color1, white);\n",
              "  --xr-background-color-row-odd: var(--jp-layout-color2, #eeeeee);\n",
              "}\n",
              "\n",
              "html[theme=dark],\n",
              "body.vscode-dark {\n",
              "  --xr-font-color0: rgba(255, 255, 255, 1);\n",
              "  --xr-font-color2: rgba(255, 255, 255, 0.54);\n",
              "  --xr-font-color3: rgba(255, 255, 255, 0.38);\n",
              "  --xr-border-color: #1F1F1F;\n",
              "  --xr-disabled-color: #515151;\n",
              "  --xr-background-color: #111111;\n",
              "  --xr-background-color-row-even: #111111;\n",
              "  --xr-background-color-row-odd: #313131;\n",
              "}\n",
              "\n",
              ".xr-wrap {\n",
              "  display: block;\n",
              "  min-width: 300px;\n",
              "  max-width: 700px;\n",
              "}\n",
              "\n",
              ".xr-text-repr-fallback {\n",
              "  /* fallback to plain text repr when CSS is not injected (untrusted notebook) */\n",
              "  display: none;\n",
              "}\n",
              "\n",
              ".xr-header {\n",
              "  padding-top: 6px;\n",
              "  padding-bottom: 6px;\n",
              "  margin-bottom: 4px;\n",
              "  border-bottom: solid 1px var(--xr-border-color);\n",
              "}\n",
              "\n",
              ".xr-header > div,\n",
              ".xr-header > ul {\n",
              "  display: inline;\n",
              "  margin-top: 0;\n",
              "  margin-bottom: 0;\n",
              "}\n",
              "\n",
              ".xr-obj-type,\n",
              ".xr-array-name {\n",
              "  margin-left: 2px;\n",
              "  margin-right: 10px;\n",
              "}\n",
              "\n",
              ".xr-obj-type {\n",
              "  color: var(--xr-font-color2);\n",
              "}\n",
              "\n",
              ".xr-sections {\n",
              "  padding-left: 0 !important;\n",
              "  display: grid;\n",
              "  grid-template-columns: 150px auto auto 1fr 20px 20px;\n",
              "}\n",
              "\n",
              ".xr-sections.group-sections {\n",
              "  grid-template-columns: auto;\n",
              "}\n",
              "\n",
              ".xr-section-item {\n",
              "  display: contents;\n",
              "}\n",
              "\n",
              ".xr-section-item input {\n",
              "  display: none;\n",
              "}\n",
              "\n",
              ".xr-section-item input + label {\n",
              "  color: var(--xr-disabled-color);\n",
              "}\n",
              "\n",
              ".xr-section-item input:enabled + label {\n",
              "  cursor: pointer;\n",
              "  color: var(--xr-font-color2);\n",
              "}\n",
              "\n",
              ".xr-section-item input:enabled + label:hover {\n",
              "  color: var(--xr-font-color0);\n",
              "}\n",
              "\n",
              ".xr-section-summary {\n",
              "  grid-column: 1;\n",
              "  color: var(--xr-font-color2);\n",
              "  font-weight: 500;\n",
              "}\n",
              "\n",
              ".xr-section-summary > span {\n",
              "  display: inline-block;\n",
              "  padding-left: 0.5em;\n",
              "}\n",
              "\n",
              ".xr-section-summary-in:disabled + label {\n",
              "  color: var(--xr-font-color2);\n",
              "}\n",
              "\n",
              ".xr-section-summary-in + label:before {\n",
              "  display: inline-block;\n",
              "  content: '►';\n",
              "  font-size: 11px;\n",
              "  width: 15px;\n",
              "  text-align: center;\n",
              "}\n",
              "\n",
              ".xr-section-summary-in:disabled + label:before {\n",
              "  color: var(--xr-disabled-color);\n",
              "}\n",
              "\n",
              ".xr-section-summary-in:checked + label:before {\n",
              "  content: '▼';\n",
              "}\n",
              "\n",
              ".xr-section-summary-in:checked + label > span {\n",
              "  display: none;\n",
              "}\n",
              "\n",
              ".xr-section-summary,\n",
              ".xr-section-inline-details {\n",
              "  padding-top: 4px;\n",
              "  padding-bottom: 4px;\n",
              "}\n",
              "\n",
              ".xr-section-inline-details {\n",
              "  grid-column: 2 / -1;\n",
              "}\n",
              "\n",
              ".xr-section-details {\n",
              "  display: none;\n",
              "  grid-column: 1 / -1;\n",
              "  margin-bottom: 5px;\n",
              "}\n",
              "\n",
              ".xr-section-summary-in:checked ~ .xr-section-details {\n",
              "  display: contents;\n",
              "}\n",
              "\n",
              ".xr-array-wrap {\n",
              "  grid-column: 1 / -1;\n",
              "  display: grid;\n",
              "  grid-template-columns: 20px auto;\n",
              "}\n",
              "\n",
              ".xr-array-wrap > label {\n",
              "  grid-column: 1;\n",
              "  vertical-align: top;\n",
              "}\n",
              "\n",
              ".xr-preview {\n",
              "  color: var(--xr-font-color3);\n",
              "}\n",
              "\n",
              ".xr-array-preview,\n",
              ".xr-array-data {\n",
              "  padding: 0 5px !important;\n",
              "  grid-column: 2;\n",
              "}\n",
              "\n",
              ".xr-array-data,\n",
              ".xr-array-in:checked ~ .xr-array-preview {\n",
              "  display: none;\n",
              "}\n",
              "\n",
              ".xr-array-in:checked ~ .xr-array-data,\n",
              ".xr-array-preview {\n",
              "  display: inline-block;\n",
              "}\n",
              "\n",
              ".xr-dim-list {\n",
              "  display: inline-block !important;\n",
              "  list-style: none;\n",
              "  padding: 0 !important;\n",
              "  margin: 0;\n",
              "}\n",
              "\n",
              ".xr-dim-list li {\n",
              "  display: inline-block;\n",
              "  padding: 0;\n",
              "  margin: 0;\n",
              "}\n",
              "\n",
              ".xr-dim-list:before {\n",
              "  content: '(';\n",
              "}\n",
              "\n",
              ".xr-dim-list:after {\n",
              "  content: ')';\n",
              "}\n",
              "\n",
              ".xr-dim-list li:not(:last-child):after {\n",
              "  content: ',';\n",
              "  padding-right: 5px;\n",
              "}\n",
              "\n",
              ".xr-has-index {\n",
              "  font-weight: bold;\n",
              "}\n",
              "\n",
              ".xr-var-list,\n",
              ".xr-var-item {\n",
              "  display: contents;\n",
              "}\n",
              "\n",
              ".xr-var-item > div,\n",
              ".xr-var-item label,\n",
              ".xr-var-item > .xr-var-name span {\n",
              "  background-color: var(--xr-background-color-row-even);\n",
              "  margin-bottom: 0;\n",
              "}\n",
              "\n",
              ".xr-var-item > .xr-var-name:hover span {\n",
              "  padding-right: 5px;\n",
              "}\n",
              "\n",
              ".xr-var-list > li:nth-child(odd) > div,\n",
              ".xr-var-list > li:nth-child(odd) > label,\n",
              ".xr-var-list > li:nth-child(odd) > .xr-var-name span {\n",
              "  background-color: var(--xr-background-color-row-odd);\n",
              "}\n",
              "\n",
              ".xr-var-name {\n",
              "  grid-column: 1;\n",
              "}\n",
              "\n",
              ".xr-var-dims {\n",
              "  grid-column: 2;\n",
              "}\n",
              "\n",
              ".xr-var-dtype {\n",
              "  grid-column: 3;\n",
              "  text-align: right;\n",
              "  color: var(--xr-font-color2);\n",
              "}\n",
              "\n",
              ".xr-var-preview {\n",
              "  grid-column: 4;\n",
              "}\n",
              "\n",
              ".xr-var-name,\n",
              ".xr-var-dims,\n",
              ".xr-var-dtype,\n",
              ".xr-preview,\n",
              ".xr-attrs dt {\n",
              "  white-space: nowrap;\n",
              "  overflow: hidden;\n",
              "  text-overflow: ellipsis;\n",
              "  padding-right: 10px;\n",
              "}\n",
              "\n",
              ".xr-var-name:hover,\n",
              ".xr-var-dims:hover,\n",
              ".xr-var-dtype:hover,\n",
              ".xr-attrs dt:hover {\n",
              "  overflow: visible;\n",
              "  width: auto;\n",
              "  z-index: 1;\n",
              "}\n",
              "\n",
              ".xr-var-attrs,\n",
              ".xr-var-data {\n",
              "  display: none;\n",
              "  background-color: var(--xr-background-color) !important;\n",
              "  padding-bottom: 5px !important;\n",
              "}\n",
              "\n",
              ".xr-var-attrs-in:checked ~ .xr-var-attrs,\n",
              ".xr-var-data-in:checked ~ .xr-var-data {\n",
              "  display: block;\n",
              "}\n",
              "\n",
              ".xr-var-data > table {\n",
              "  float: right;\n",
              "}\n",
              "\n",
              ".xr-var-name span,\n",
              ".xr-var-data,\n",
              ".xr-attrs {\n",
              "  padding-left: 25px !important;\n",
              "}\n",
              "\n",
              ".xr-attrs,\n",
              ".xr-var-attrs,\n",
              ".xr-var-data {\n",
              "  grid-column: 1 / -1;\n",
              "}\n",
              "\n",
              "dl.xr-attrs {\n",
              "  padding: 0;\n",
              "  margin: 0;\n",
              "  display: grid;\n",
              "  grid-template-columns: 125px auto;\n",
              "}\n",
              "\n",
              ".xr-attrs dt, dd {\n",
              "  padding: 0;\n",
              "  margin: 0;\n",
              "  float: left;\n",
              "  padding-right: 10px;\n",
              "  width: auto;\n",
              "}\n",
              "\n",
              ".xr-attrs dt {\n",
              "  font-weight: normal;\n",
              "  grid-column: 1;\n",
              "}\n",
              "\n",
              ".xr-attrs dt:hover span {\n",
              "  display: inline-block;\n",
              "  background: var(--xr-background-color);\n",
              "  padding-right: 10px;\n",
              "}\n",
              "\n",
              ".xr-attrs dd {\n",
              "  grid-column: 2;\n",
              "  white-space: pre-wrap;\n",
              "  word-break: break-all;\n",
              "}\n",
              "\n",
              ".xr-icon-database,\n",
              ".xr-icon-file-text2 {\n",
              "  display: inline-block;\n",
              "  vertical-align: middle;\n",
              "  width: 1em;\n",
              "  height: 1.5em !important;\n",
              "  stroke-width: 0;\n",
              "  stroke: currentColor;\n",
              "  fill: currentColor;\n",
              "}\n",
              ".xr-wrap{width:700px!important;} </style>"
            ]
          },
          "metadata": {},
          "execution_count": 22
        }
      ]
    },
    {
      "cell_type": "code",
      "source": [
        "P_S=trace.posterior['P']\n",
        "t=np.array(P_S)\n",
        "print(\"Average P: \", np.average(t))\n",
        "print(\"Standar deviation P: \", np.std(t))\n",
        "confidence=100.0*np.sum(np.logical_and(t>=0.454,t<=0.464)+0)/t.size\n",
        "print(\"Percentage of values between 0.454 and 0.464: \",confidence)\n",
        "print(\"Percentage Values outside this interval: \", 100-confidence)"
      ],
      "metadata": {
        "colab": {
          "base_uri": "https://localhost:8080/"
        },
        "id": "Btyc6MfE6eqT",
        "outputId": "7dd3ac96-ed37-4787-ab49-c5723c861093"
      },
      "execution_count": null,
      "outputs": [
        {
          "output_type": "stream",
          "name": "stdout",
          "text": [
            "Average P:  0.45877430555516385\n",
            "Standar deviation P:  0.0013375438621210235\n",
            "Percentage of values between 0.454 and 0.464:  99.975\n",
            "Percentage Values outside this interval:  0.025000000000005684\n"
          ]
        }
      ]
    },
    {
      "cell_type": "code",
      "source": [
        "confidence=100.0*np.sum(np.logical_and(t>=0.457,t<=0.459)+0)/t.size\n",
        "print(\"Percentage of values between 0.457 and 0.459: \",confidence)\n",
        "print(\"Percentage Values outside this interval: \", 100-confidence)"
      ],
      "metadata": {
        "colab": {
          "base_uri": "https://localhost:8080/"
        },
        "id": "rwcKP5XR-Zuq",
        "outputId": "212a9387-e140-4aac-c77e-38100ebefd8a"
      },
      "execution_count": null,
      "outputs": [
        {
          "output_type": "stream",
          "name": "stdout",
          "text": [
            "Percentage of values between 0.457 and 0.459:  47.31\n",
            "Percentage Values outside this interval:  52.69\n"
          ]
        }
      ]
    },
    {
      "cell_type": "code",
      "source": [
        "# A binomial(p,n) has: average n*p and variance n*p*(1-p)\n",
        "# number need to be changed to probability scale\n",
        "print(\"Critical probability: \", 14*0.45877786125773945, \"->\", 0.03*14*0.45877786125773945+np.min(prob15_10000))\n",
        "print(\"Sigma arround critical probability: \", 0.03*np.sqrt(14*0.45877786125773945*(1-0.45877786125773945)))"
      ],
      "metadata": {
        "colab": {
          "base_uri": "https://localhost:8080/"
        },
        "id": "2B581GlYBKFN",
        "outputId": "4a52d95e-0397-4d65-c30a-79ffe3696229"
      },
      "execution_count": null,
      "outputs": [
        {
          "output_type": "stream",
          "name": "stdout",
          "text": [
            "Critical probability:  6.4228900576083525 -> 0.3126867017282505\n",
            "Sigma arround critical probability:  0.055933793582204606\n"
          ]
        }
      ]
    },
    {
      "cell_type": "markdown",
      "source": [
        "#data 13"
      ],
      "metadata": {
        "id": "e13gm9ny_m4e"
      }
    },
    {
      "cell_type": "code",
      "source": [
        "data_13 =np.array((prob13-0.15)/0.03,dtype=np.int64)\n",
        "range13=np.unique(data_13)\n",
        "print(range13)\n",
        "len(range13)\n",
        "# notice n=11 and n=15 missing"
      ],
      "metadata": {
        "colab": {
          "base_uri": "https://localhost:8080/"
        },
        "id": "-dVN6tQd-fWy",
        "outputId": "683f7c1d-2064-48f9-9d75-d58d28c0ba4e"
      },
      "execution_count": null,
      "outputs": [
        {
          "output_type": "stream",
          "name": "stdout",
          "text": [
            "[ 0  1  2  3  4  5  6  7  8  9 10 12 13 14 16]\n"
          ]
        },
        {
          "output_type": "execute_result",
          "data": {
            "text/plain": [
              "15"
            ]
          },
          "metadata": {},
          "execution_count": 25
        }
      ]
    },
    {
      "cell_type": "code",
      "source": [
        "# the model is a binomial where parameter p is uniform and n is 14 \n",
        "# data should be transformed to binomial domain: integer from 0 to n\n",
        "with pm.Model() as model13:\n",
        "  P = pm.Uniform(name=\"P\", lower=at.as_tensor_variable(0.0), upper=at.as_tensor_variable(1.0))\n",
        "  Distrib = pm.Binomial(name=\"Distrib\", p=P ,n=np.max(range13) , observed=data_13)\n"
      ],
      "metadata": {
        "id": "x9v0n8wr_rfA"
      },
      "execution_count": null,
      "outputs": []
    },
    {
      "cell_type": "code",
      "source": [
        "with model13:\n",
        "  trace = pm.sample(draws=10000, tune=1000)"
      ],
      "metadata": {
        "colab": {
          "base_uri": "https://localhost:8080/",
          "height": 57
        },
        "id": "31qAGXCXAKT4",
        "outputId": "6720fa09-0879-485b-a2fb-46841f147286"
      },
      "execution_count": null,
      "outputs": [
        {
          "output_type": "display_data",
          "data": {
            "text/plain": [
              "<IPython.core.display.HTML object>"
            ],
            "text/html": [
              "\n",
              "<style>\n",
              "    /* Turns off some styling */\n",
              "    progress {\n",
              "        /* gets rid of default border in Firefox and Opera. */\n",
              "        border: none;\n",
              "        /* Needs to be in here for Safari polyfill so background images work as expected. */\n",
              "        background-size: auto;\n",
              "    }\n",
              "    progress:not([value]), progress:not([value])::-webkit-progress-bar {\n",
              "        background: repeating-linear-gradient(45deg, #7e7e7e, #7e7e7e 10px, #5c5c5c 10px, #5c5c5c 20px);\n",
              "    }\n",
              "    .progress-bar-interrupted, .progress-bar-interrupted::-webkit-progress-bar {\n",
              "        background: #F44336;\n",
              "    }\n",
              "</style>\n"
            ]
          },
          "metadata": {}
        },
        {
          "output_type": "display_data",
          "data": {
            "text/plain": [
              "<IPython.core.display.HTML object>"
            ],
            "text/html": [
              "\n",
              "    <div>\n",
              "      <progress value='11000' class='' max='11000' style='width:300px; height:20px; vertical-align: middle;'></progress>\n",
              "      100.00% [11000/11000 00:08&lt;00:00 Sampling chain 0, 0 divergences]\n",
              "    </div>\n",
              "    "
            ]
          },
          "metadata": {}
        },
        {
          "output_type": "display_data",
          "data": {
            "text/plain": [
              "<IPython.core.display.HTML object>"
            ],
            "text/html": [
              "\n",
              "<style>\n",
              "    /* Turns off some styling */\n",
              "    progress {\n",
              "        /* gets rid of default border in Firefox and Opera. */\n",
              "        border: none;\n",
              "        /* Needs to be in here for Safari polyfill so background images work as expected. */\n",
              "        background-size: auto;\n",
              "    }\n",
              "    progress:not([value]), progress:not([value])::-webkit-progress-bar {\n",
              "        background: repeating-linear-gradient(45deg, #7e7e7e, #7e7e7e 10px, #5c5c5c 10px, #5c5c5c 20px);\n",
              "    }\n",
              "    .progress-bar-interrupted, .progress-bar-interrupted::-webkit-progress-bar {\n",
              "        background: #F44336;\n",
              "    }\n",
              "</style>\n"
            ]
          },
          "metadata": {}
        },
        {
          "output_type": "display_data",
          "data": {
            "text/plain": [
              "<IPython.core.display.HTML object>"
            ],
            "text/html": [
              "\n",
              "    <div>\n",
              "      <progress value='11000' class='' max='11000' style='width:300px; height:20px; vertical-align: middle;'></progress>\n",
              "      100.00% [11000/11000 00:10&lt;00:00 Sampling chain 1, 0 divergences]\n",
              "    </div>\n",
              "    "
            ]
          },
          "metadata": {}
        }
      ]
    },
    {
      "cell_type": "code",
      "source": [
        "with model15_10000:\n",
        "  pm.plot_trace(trace)"
      ],
      "metadata": {
        "colab": {
          "base_uri": "https://localhost:8080/",
          "height": 171
        },
        "id": "WNEutbkrAVbI",
        "outputId": "3c7c5688-cbbc-445c-e225-0bfb73999c15"
      },
      "execution_count": null,
      "outputs": [
        {
          "output_type": "display_data",
          "data": {
            "text/plain": [
              "<Figure size 864x144 with 2 Axes>"
            ],
            "image/png": "[encoded data removed]"
          },
          "metadata": {
            "needs_background": "light"
          }
        }
      ]
    },
    {
      "cell_type": "code",
      "source": [
        "P_S=trace.posterior['P']\n",
        "t=np.array(P_S)\n",
        "print(\"Average P: \", np.average(t))\n",
        "print(\"Standar deviation P: \", np.std(t))\n",
        "confidence=100.0*np.sum(np.logical_and(t>=0.410,t<=0.435)+0)/t.size\n",
        "print(\"Percentage of values between 0.410 and 0.435: \",confidence)\n",
        "print(\"Percentage Values outside this interval: \", 100-confidence)"
      ],
      "metadata": {
        "colab": {
          "base_uri": "https://localhost:8080/"
        },
        "id": "PzuRaNiuAf53",
        "outputId": "db9cb3e5-3529-48a5-f62b-8454ef90d18d"
      },
      "execution_count": null,
      "outputs": [
        {
          "output_type": "stream",
          "name": "stdout",
          "text": [
            "Average P:  0.42326199589159585\n",
            "Standar deviation P:  0.0038930895816034084\n",
            "Percentage of values between 0.410 and 0.435:  99.82\n",
            "Percentage Values outside this interval:  0.18000000000000682\n"
          ]
        }
      ]
    },
    {
      "cell_type": "code",
      "source": [
        "import numpy as np\n",
        "np.log(13)/13"
      ],
      "metadata": {
        "colab": {
          "base_uri": "https://localhost:8080/"
        },
        "id": "i2cqTUfGb20h",
        "outputId": "e9dd1d9d-f7cf-4a49-f4e6-a5494e576726"
      },
      "execution_count": null,
      "outputs": [
        {
          "output_type": "execute_result",
          "data": {
            "text/plain": [
              "0.1973037967278105"
            ]
          },
          "metadata": {},
          "execution_count": 30
        }
      ]
    },
    {
      "cell_type": "markdown",
      "source": [],
      "metadata": {
        "id": "oNPef9Fkb1bF"
      }
    },
    {
      "cell_type": "code",
      "source": [
        "# A binomial(p,n) has: average n*p and variance n*p*(1-p)\n",
        "# number need to be changed to probability scale\n",
        "print(\"Critical probability: \", np.max(range13)*0.4233233501255987, \"->\", 0.03*np.max(range13)*0.45877786125773945+np.min(prob13))\n",
        "print(\"Sigma arround critical probability: \", 0.03*np.sqrt(np.max(range13)*0.4233233501255987*(1-0.4233233501255987)))"
      ],
      "metadata": {
        "colab": {
          "base_uri": "https://localhost:8080/"
        },
        "id": "U6DFGCHFAykN",
        "outputId": "c170d1c4-0cbe-41cd-a3fa-5d992dbbd06d"
      },
      "execution_count": null,
      "outputs": [
        {
          "output_type": "stream",
          "name": "stdout",
          "text": [
            "Critical probability:  6.773173602009579 -> 0.37021337340371496\n",
            "Sigma arround critical probability:  0.05929028550818552\n"
          ]
        }
      ]
    },
    {
      "cell_type": "markdown",
      "source": [
        "# Data 14"
      ],
      "metadata": {
        "id": "zkX0jv-ZwH3q"
      }
    },
    {
      "cell_type": "code",
      "source": [
        "data_14 =np.array((prob14-np.min(prob14))/0.03,dtype=np.int64)\n",
        "range14=np.unique(data_14)\n",
        "print(range14)\n",
        "len(range14)"
      ],
      "metadata": {
        "id": "PmVHDpdMwNWt",
        "colab": {
          "base_uri": "https://localhost:8080/"
        },
        "outputId": "f77558eb-b1c0-457d-c955-2cce32936554"
      },
      "execution_count": null,
      "outputs": [
        {
          "output_type": "stream",
          "name": "stdout",
          "text": [
            "[ 0  1  2  3  4  5  6  7  8  9 10 11 12]\n"
          ]
        },
        {
          "output_type": "execute_result",
          "data": {
            "text/plain": [
              "13"
            ]
          },
          "metadata": {},
          "execution_count": 15
        }
      ]
    },
    {
      "cell_type": "code",
      "source": [
        "# the model is a binomial where parameter p is uniform and n is 12 \n",
        "# data should be transformed to binomial domain: integer from 0 to n\n",
        "with pm.Model() as model14:\n",
        "  P = pm.Uniform(name=\"P\", lower=at.as_tensor_variable(0.0), upper=at.as_tensor_variable(1.0))\n",
        "  Distrib = pm.Binomial(name=\"Distrib\", p=P ,n=np.max(range14) , observed=data_14)"
      ],
      "metadata": {
        "id": "ZbsSNuRX5OOI"
      },
      "execution_count": null,
      "outputs": []
    },
    {
      "cell_type": "code",
      "source": [
        "with model14:\n",
        "  trace = pm.sample(draws=10000, tune=1000)"
      ],
      "metadata": {
        "colab": {
          "base_uri": "https://localhost:8080/",
          "height": 57
        },
        "id": "WRZ0Bw3i59D-",
        "outputId": "54d98a01-1a18-4557-c091-dc0378b23afe"
      },
      "execution_count": null,
      "outputs": [
        {
          "output_type": "display_data",
          "data": {
            "text/plain": [
              "<IPython.core.display.HTML object>"
            ],
            "text/html": [
              "\n",
              "<style>\n",
              "    /* Turns off some styling */\n",
              "    progress {\n",
              "        /* gets rid of default border in Firefox and Opera. */\n",
              "        border: none;\n",
              "        /* Needs to be in here for Safari polyfill so background images work as expected. */\n",
              "        background-size: auto;\n",
              "    }\n",
              "    progress:not([value]), progress:not([value])::-webkit-progress-bar {\n",
              "        background: repeating-linear-gradient(45deg, #7e7e7e, #7e7e7e 10px, #5c5c5c 10px, #5c5c5c 20px);\n",
              "    }\n",
              "    .progress-bar-interrupted, .progress-bar-interrupted::-webkit-progress-bar {\n",
              "        background: #F44336;\n",
              "    }\n",
              "</style>\n"
            ]
          },
          "metadata": {}
        },
        {
          "output_type": "display_data",
          "data": {
            "text/plain": [
              "<IPython.core.display.HTML object>"
            ],
            "text/html": [
              "\n",
              "    <div>\n",
              "      <progress value='11000' class='' max='11000' style='width:300px; height:20px; vertical-align: middle;'></progress>\n",
              "      100.00% [11000/11000 00:10&lt;00:00 Sampling chain 0, 0 divergences]\n",
              "    </div>\n",
              "    "
            ]
          },
          "metadata": {}
        },
        {
          "output_type": "display_data",
          "data": {
            "text/plain": [
              "<IPython.core.display.HTML object>"
            ],
            "text/html": [
              "\n",
              "<style>\n",
              "    /* Turns off some styling */\n",
              "    progress {\n",
              "        /* gets rid of default border in Firefox and Opera. */\n",
              "        border: none;\n",
              "        /* Needs to be in here for Safari polyfill so background images work as expected. */\n",
              "        background-size: auto;\n",
              "    }\n",
              "    progress:not([value]), progress:not([value])::-webkit-progress-bar {\n",
              "        background: repeating-linear-gradient(45deg, #7e7e7e, #7e7e7e 10px, #5c5c5c 10px, #5c5c5c 20px);\n",
              "    }\n",
              "    .progress-bar-interrupted, .progress-bar-interrupted::-webkit-progress-bar {\n",
              "        background: #F44336;\n",
              "    }\n",
              "</style>\n"
            ]
          },
          "metadata": {}
        },
        {
          "output_type": "display_data",
          "data": {
            "text/plain": [
              "<IPython.core.display.HTML object>"
            ],
            "text/html": [
              "\n",
              "    <div>\n",
              "      <progress value='11000' class='' max='11000' style='width:300px; height:20px; vertical-align: middle;'></progress>\n",
              "      100.00% [11000/11000 00:14&lt;00:00 Sampling chain 1, 0 divergences]\n",
              "    </div>\n",
              "    "
            ]
          },
          "metadata": {}
        }
      ]
    },
    {
      "cell_type": "code",
      "source": [
        "with model14:\n",
        "  pm.plot_trace(trace)"
      ],
      "metadata": {
        "colab": {
          "base_uri": "https://localhost:8080/",
          "height": 171
        },
        "id": "YwXo1SNa_srI",
        "outputId": "c1255c19-6511-4f6c-d6cb-3dc204cdd7d2"
      },
      "execution_count": null,
      "outputs": [
        {
          "output_type": "display_data",
          "data": {
            "text/plain": [
              "<Figure size 864x144 with 2 Axes>"
            ],
            "image/png": "[encoded data removed]"
          },
          "metadata": {
            "needs_background": "light"
          }
        }
      ]
    },
    {
      "cell_type": "code",
      "source": [
        "P_S=trace.posterior['P']\n",
        "t=np.array(P_S)\n",
        "print(\"Average P: \", np.average(t))\n",
        "print(\"Standar deviation P: \", np.std(t))\n",
        "confidence=100.0*np.sum(np.logical_and(t>=0.410,t<=0.435)+0)/t.size\n",
        "print(\"Percentage of values between 0.410 and 0.435: \",confidence)\n",
        "print(\"Percentage Values outside this interval: \", 100-confidence)"
      ],
      "metadata": {
        "colab": {
          "base_uri": "https://localhost:8080/"
        },
        "id": "D4FvVl9E_y5k",
        "outputId": "f2df49d7-9d9a-409b-a59e-a6f914f50f60"
      },
      "execution_count": null,
      "outputs": [
        {
          "output_type": "stream",
          "name": "stdout",
          "text": [
            "Average P:  0.42452728677219737\n",
            "Standar deviation P:  0.004496272452676571\n",
            "Percentage of values between 0.410 and 0.435:  99.06\n",
            "Percentage Values outside this interval:  0.9399999999999977\n"
          ]
        }
      ]
    },
    {
      "cell_type": "markdown",
      "source": [
        "# Data 15"
      ],
      "metadata": {
        "id": "m5lmgacaG1Kr"
      }
    },
    {
      "cell_type": "code",
      "source": [
        "data_15 =np.array((prob15-np.min(prob15))/0.03,dtype=np.int64)\n",
        "range15=np.unique(data_15)\n",
        "print(range15)\n",
        "len(range15)"
      ],
      "metadata": {
        "colab": {
          "base_uri": "https://localhost:8080/"
        },
        "id": "hARnuFR6G5e-",
        "outputId": "52e5b0f9-7981-4f65-b4b0-4fd3dfdfa12c"
      },
      "execution_count": null,
      "outputs": [
        {
          "output_type": "stream",
          "name": "stdout",
          "text": [
            "[ 0  1  2  3  4  5  6  7  8  9 10 11 12 13 14]\n"
          ]
        },
        {
          "output_type": "execute_result",
          "data": {
            "text/plain": [
              "15"
            ]
          },
          "metadata": {},
          "execution_count": 37
        }
      ]
    },
    {
      "cell_type": "code",
      "source": [
        "# the model is a binomial where parameter p is uniform and n is 14 \n",
        "# data should be transformed to binomial domain: integer from 0 to n\n",
        "with pm.Model() as model15:\n",
        "  P = pm.Uniform(name=\"P\", lower=at.as_tensor_variable(0.0), upper=at.as_tensor_variable(1.0))\n",
        "  Distrib = pm.Binomial(name=\"Distrib\", p=P ,n=np.max(range15) , observed=data_15)"
      ],
      "metadata": {
        "id": "bh2sV-TwHDQ8"
      },
      "execution_count": null,
      "outputs": []
    },
    {
      "cell_type": "code",
      "source": [
        "with model15:\n",
        "  trace = pm.sample(draws=10000, tune=1000)"
      ],
      "metadata": {
        "colab": {
          "base_uri": "https://localhost:8080/",
          "height": 57
        },
        "id": "aAyd6DksHJNs",
        "outputId": "d9ff14cf-0163-438e-8734-f20c530497bb"
      },
      "execution_count": null,
      "outputs": [
        {
          "output_type": "display_data",
          "data": {
            "text/plain": [
              "<IPython.core.display.HTML object>"
            ],
            "text/html": [
              "\n",
              "<style>\n",
              "    /* Turns off some styling */\n",
              "    progress {\n",
              "        /* gets rid of default border in Firefox and Opera. */\n",
              "        border: none;\n",
              "        /* Needs to be in here for Safari polyfill so background images work as expected. */\n",
              "        background-size: auto;\n",
              "    }\n",
              "    progress:not([value]), progress:not([value])::-webkit-progress-bar {\n",
              "        background: repeating-linear-gradient(45deg, #7e7e7e, #7e7e7e 10px, #5c5c5c 10px, #5c5c5c 20px);\n",
              "    }\n",
              "    .progress-bar-interrupted, .progress-bar-interrupted::-webkit-progress-bar {\n",
              "        background: #F44336;\n",
              "    }\n",
              "</style>\n"
            ]
          },
          "metadata": {}
        },
        {
          "output_type": "display_data",
          "data": {
            "text/plain": [
              "<IPython.core.display.HTML object>"
            ],
            "text/html": [
              "\n",
              "    <div>\n",
              "      <progress value='11000' class='' max='11000' style='width:300px; height:20px; vertical-align: middle;'></progress>\n",
              "      100.00% [11000/11000 00:07&lt;00:00 Sampling chain 0, 0 divergences]\n",
              "    </div>\n",
              "    "
            ]
          },
          "metadata": {}
        },
        {
          "output_type": "display_data",
          "data": {
            "text/plain": [
              "<IPython.core.display.HTML object>"
            ],
            "text/html": [
              "\n",
              "<style>\n",
              "    /* Turns off some styling */\n",
              "    progress {\n",
              "        /* gets rid of default border in Firefox and Opera. */\n",
              "        border: none;\n",
              "        /* Needs to be in here for Safari polyfill so background images work as expected. */\n",
              "        background-size: auto;\n",
              "    }\n",
              "    progress:not([value]), progress:not([value])::-webkit-progress-bar {\n",
              "        background: repeating-linear-gradient(45deg, #7e7e7e, #7e7e7e 10px, #5c5c5c 10px, #5c5c5c 20px);\n",
              "    }\n",
              "    .progress-bar-interrupted, .progress-bar-interrupted::-webkit-progress-bar {\n",
              "        background: #F44336;\n",
              "    }\n",
              "</style>\n"
            ]
          },
          "metadata": {}
        },
        {
          "output_type": "display_data",
          "data": {
            "text/plain": [
              "<IPython.core.display.HTML object>"
            ],
            "text/html": [
              "\n",
              "    <div>\n",
              "      <progress value='11000' class='' max='11000' style='width:300px; height:20px; vertical-align: middle;'></progress>\n",
              "      100.00% [11000/11000 00:07&lt;00:00 Sampling chain 1, 0 divergences]\n",
              "    </div>\n",
              "    "
            ]
          },
          "metadata": {}
        }
      ]
    },
    {
      "cell_type": "code",
      "source": [
        "with model15_10000:\n",
        "  pm.plot_trace(trace)"
      ],
      "metadata": {
        "colab": {
          "base_uri": "https://localhost:8080/",
          "height": 171
        },
        "id": "aDJz5zTyHP14",
        "outputId": "6dda9332-d2f2-4a7c-c217-207f9233c356"
      },
      "execution_count": null,
      "outputs": [
        {
          "output_type": "display_data",
          "data": {
            "text/plain": [
              "<Figure size 864x144 with 2 Axes>"
            ],
            "image/png": "[encoded data removed]"
          },
          "metadata": {
            "needs_background": "light"
          }
        }
      ]
    },
    {
      "cell_type": "code",
      "source": [
        "P_S=trace.posterior['P']\n",
        "t=np.array(P_S)\n",
        "print(\"Average P: \", np.average(t))\n",
        "print(\"Standar deviation P: \", np.std(t))\n",
        "confidence=100.0*np.sum(np.logical_and(t>=0.445,t<=0.470)+0)/t.size\n",
        "print(\"Percentage of values between 0.410 and 0.435: \",confidence)\n",
        "print(\"Percentage Values outside this interval: \", 100-confidence)"
      ],
      "metadata": {
        "colab": {
          "base_uri": "https://localhost:8080/"
        },
        "id": "BKEd5DP8MSi_",
        "outputId": "b7d245d9-9f49-47ca-bcd4-3eb88ad26d53"
      },
      "execution_count": null,
      "outputs": [
        {
          "output_type": "stream",
          "name": "stdout",
          "text": [
            "Average P:  0.45774204780075106\n",
            "Standar deviation P:  0.004211614315378695\n",
            "Percentage of values between 0.410 and 0.435:  99.71\n",
            "Percentage Values outside this interval:  0.29000000000000625\n"
          ]
        }
      ]
    },
    {
      "cell_type": "markdown",
      "source": [
        "# Data 16"
      ],
      "metadata": {
        "id": "S6uMYxvAIn2U"
      }
    },
    {
      "cell_type": "code",
      "source": [
        "data_16 =np.array((prob16-np.min(prob16))/0.03,dtype=np.int64)\n",
        "range16=np.unique(data_16)\n",
        "print(range16)\n",
        "len(range16)"
      ],
      "metadata": {
        "colab": {
          "base_uri": "https://localhost:8080/"
        },
        "id": "HV4Sq8gKKWr9",
        "outputId": "b93d07df-6328-4607-bdb2-2918462835a2"
      },
      "execution_count": null,
      "outputs": [
        {
          "output_type": "stream",
          "name": "stdout",
          "text": [
            "[ 0  1  2  3  4  5  6  7  8  9 10]\n"
          ]
        },
        {
          "output_type": "execute_result",
          "data": {
            "text/plain": [
              "11"
            ]
          },
          "metadata": {},
          "execution_count": 42
        }
      ]
    },
    {
      "cell_type": "code",
      "source": [
        "# the model is a binomial where parameter p is uniform and n is 10\n",
        "# data should be transformed to binomial domain: integer from 0 to n\n",
        "with pm.Model() as model16:\n",
        "  P = pm.Uniform(name=\"P\", lower=at.as_tensor_variable(0.0), upper=at.as_tensor_variable(1.0))\n",
        "  Distrib = pm.Binomial(name=\"Distrib\", p=P ,n=np.max(range16) , observed=data_16)"
      ],
      "metadata": {
        "id": "aap43lj2KgTS"
      },
      "execution_count": null,
      "outputs": []
    },
    {
      "cell_type": "code",
      "source": [
        "with model16:\n",
        "  trace = pm.sample(draws=10000, tune=1000)"
      ],
      "metadata": {
        "colab": {
          "base_uri": "https://localhost:8080/",
          "height": 57
        },
        "id": "1wiNSzT7K85x",
        "outputId": "d3b70636-780a-4cab-bf1a-5c558da971f1"
      },
      "execution_count": null,
      "outputs": [
        {
          "output_type": "display_data",
          "data": {
            "text/plain": [
              "<IPython.core.display.HTML object>"
            ],
            "text/html": [
              "\n",
              "<style>\n",
              "    /* Turns off some styling */\n",
              "    progress {\n",
              "        /* gets rid of default border in Firefox and Opera. */\n",
              "        border: none;\n",
              "        /* Needs to be in here for Safari polyfill so background images work as expected. */\n",
              "        background-size: auto;\n",
              "    }\n",
              "    progress:not([value]), progress:not([value])::-webkit-progress-bar {\n",
              "        background: repeating-linear-gradient(45deg, #7e7e7e, #7e7e7e 10px, #5c5c5c 10px, #5c5c5c 20px);\n",
              "    }\n",
              "    .progress-bar-interrupted, .progress-bar-interrupted::-webkit-progress-bar {\n",
              "        background: #F44336;\n",
              "    }\n",
              "</style>\n"
            ]
          },
          "metadata": {}
        },
        {
          "output_type": "display_data",
          "data": {
            "text/plain": [
              "<IPython.core.display.HTML object>"
            ],
            "text/html": [
              "\n",
              "    <div>\n",
              "      <progress value='11000' class='' max='11000' style='width:300px; height:20px; vertical-align: middle;'></progress>\n",
              "      100.00% [11000/11000 00:07&lt;00:00 Sampling chain 0, 0 divergences]\n",
              "    </div>\n",
              "    "
            ]
          },
          "metadata": {}
        },
        {
          "output_type": "display_data",
          "data": {
            "text/plain": [
              "<IPython.core.display.HTML object>"
            ],
            "text/html": [
              "\n",
              "<style>\n",
              "    /* Turns off some styling */\n",
              "    progress {\n",
              "        /* gets rid of default border in Firefox and Opera. */\n",
              "        border: none;\n",
              "        /* Needs to be in here for Safari polyfill so background images work as expected. */\n",
              "        background-size: auto;\n",
              "    }\n",
              "    progress:not([value]), progress:not([value])::-webkit-progress-bar {\n",
              "        background: repeating-linear-gradient(45deg, #7e7e7e, #7e7e7e 10px, #5c5c5c 10px, #5c5c5c 20px);\n",
              "    }\n",
              "    .progress-bar-interrupted, .progress-bar-interrupted::-webkit-progress-bar {\n",
              "        background: #F44336;\n",
              "    }\n",
              "</style>\n"
            ]
          },
          "metadata": {}
        },
        {
          "output_type": "display_data",
          "data": {
            "text/plain": [
              "<IPython.core.display.HTML object>"
            ],
            "text/html": [
              "\n",
              "    <div>\n",
              "      <progress value='11000' class='' max='11000' style='width:300px; height:20px; vertical-align: middle;'></progress>\n",
              "      100.00% [11000/11000 00:07&lt;00:00 Sampling chain 1, 0 divergences]\n",
              "    </div>\n",
              "    "
            ]
          },
          "metadata": {}
        }
      ]
    },
    {
      "cell_type": "code",
      "source": [
        "with model15_10000:\n",
        "  pm.plot_trace(trace)"
      ],
      "metadata": {
        "colab": {
          "base_uri": "https://localhost:8080/",
          "height": 171
        },
        "id": "BhZLyrpdLKNd",
        "outputId": "16cc3db0-1ff3-45e2-c165-4fda701adbfa"
      },
      "execution_count": null,
      "outputs": [
        {
          "output_type": "display_data",
          "data": {
            "text/plain": [
              "<Figure size 864x144 with 2 Axes>"
            ],
            "image/png": "[encoded data removed]"
          },
          "metadata": {
            "needs_background": "light"
          }
        }
      ]
    },
    {
      "cell_type": "code",
      "source": [
        "P_S=trace.posterior['P']\n",
        "t=np.array(P_S)\n",
        "print(\"Average P: \", np.average(t))\n",
        "print(\"Standar deviation P: \", np.std(t))\n",
        "confidence=100.0*np.sum(np.logical_and(t>=0.460,t<=0.490)+0)/t.size\n",
        "print(\"Percentage of values between 0.410 and 0.435: \",confidence)\n",
        "print(\"Percentage Values outside this interval: \", 100-confidence)"
      ],
      "metadata": {
        "colab": {
          "base_uri": "https://localhost:8080/"
        },
        "id": "Qb3seFiOL-A_",
        "outputId": "c231bc9c-5ee2-40ec-a814-56b9d6bc0841"
      },
      "execution_count": null,
      "outputs": [
        {
          "output_type": "stream",
          "name": "stdout",
          "text": [
            "Average P:  0.4765446058751333\n",
            "Standar deviation P:  0.004925931727540558\n",
            "Percentage of values between 0.410 and 0.435:  99.625\n",
            "Percentage Values outside this interval:  0.375\n"
          ]
        }
      ]
    },
    {
      "cell_type": "markdown",
      "source": [
        "# Data 17"
      ],
      "metadata": {
        "id": "pDVI-9oYMBw0"
      }
    },
    {
      "cell_type": "code",
      "source": [
        "data_17 =np.array((prob17-np.min(prob17))/0.03,dtype=np.int64)\n",
        "range17=np.unique(data_17)\n",
        "print(range17)\n",
        "len(range17)"
      ],
      "metadata": {
        "colab": {
          "base_uri": "https://localhost:8080/"
        },
        "id": "1dSAlYI-MA6E",
        "outputId": "8233c6a7-783d-4c04-e73a-aba6fc5d5e6d"
      },
      "execution_count": null,
      "outputs": [
        {
          "output_type": "stream",
          "name": "stdout",
          "text": [
            "[ 0  1  2  3  4  5  6  7  8  9 10 11]\n"
          ]
        },
        {
          "output_type": "execute_result",
          "data": {
            "text/plain": [
              "12"
            ]
          },
          "metadata": {},
          "execution_count": 47
        }
      ]
    },
    {
      "cell_type": "code",
      "source": [
        "# the model is a binomial where parameter p is uniform and n is 11\n",
        "# data should be transformed to binomial domain: integer from 0 to n\n",
        "with pm.Model() as model17:\n",
        "  P = pm.Uniform(name=\"P\", lower=at.as_tensor_variable(0.0), upper=at.as_tensor_variable(1.0))\n",
        "  Distrib = pm.Binomial(name=\"Distrib\", p=P ,n=np.max(range17) , observed=data_17)"
      ],
      "metadata": {
        "id": "WLNo7nJgMNeo"
      },
      "execution_count": null,
      "outputs": []
    },
    {
      "cell_type": "code",
      "source": [
        "with model17:\n",
        "  trace = pm.sample(draws=10000, tune=1000)"
      ],
      "metadata": {
        "colab": {
          "base_uri": "https://localhost:8080/",
          "height": 57
        },
        "id": "Ig9yWYi8NCIZ",
        "outputId": "7ac843e9-b17d-4c7f-da2f-6783a2eac852"
      },
      "execution_count": null,
      "outputs": [
        {
          "output_type": "display_data",
          "data": {
            "text/plain": [
              "<IPython.core.display.HTML object>"
            ],
            "text/html": [
              "\n",
              "<style>\n",
              "    /* Turns off some styling */\n",
              "    progress {\n",
              "        /* gets rid of default border in Firefox and Opera. */\n",
              "        border: none;\n",
              "        /* Needs to be in here for Safari polyfill so background images work as expected. */\n",
              "        background-size: auto;\n",
              "    }\n",
              "    progress:not([value]), progress:not([value])::-webkit-progress-bar {\n",
              "        background: repeating-linear-gradient(45deg, #7e7e7e, #7e7e7e 10px, #5c5c5c 10px, #5c5c5c 20px);\n",
              "    }\n",
              "    .progress-bar-interrupted, .progress-bar-interrupted::-webkit-progress-bar {\n",
              "        background: #F44336;\n",
              "    }\n",
              "</style>\n"
            ]
          },
          "metadata": {}
        },
        {
          "output_type": "display_data",
          "data": {
            "text/plain": [
              "<IPython.core.display.HTML object>"
            ],
            "text/html": [
              "\n",
              "    <div>\n",
              "      <progress value='11000' class='' max='11000' style='width:300px; height:20px; vertical-align: middle;'></progress>\n",
              "      100.00% [11000/11000 00:07&lt;00:00 Sampling chain 0, 0 divergences]\n",
              "    </div>\n",
              "    "
            ]
          },
          "metadata": {}
        },
        {
          "output_type": "display_data",
          "data": {
            "text/plain": [
              "<IPython.core.display.HTML object>"
            ],
            "text/html": [
              "\n",
              "<style>\n",
              "    /* Turns off some styling */\n",
              "    progress {\n",
              "        /* gets rid of default border in Firefox and Opera. */\n",
              "        border: none;\n",
              "        /* Needs to be in here for Safari polyfill so background images work as expected. */\n",
              "        background-size: auto;\n",
              "    }\n",
              "    progress:not([value]), progress:not([value])::-webkit-progress-bar {\n",
              "        background: repeating-linear-gradient(45deg, #7e7e7e, #7e7e7e 10px, #5c5c5c 10px, #5c5c5c 20px);\n",
              "    }\n",
              "    .progress-bar-interrupted, .progress-bar-interrupted::-webkit-progress-bar {\n",
              "        background: #F44336;\n",
              "    }\n",
              "</style>\n"
            ]
          },
          "metadata": {}
        },
        {
          "output_type": "display_data",
          "data": {
            "text/plain": [
              "<IPython.core.display.HTML object>"
            ],
            "text/html": [
              "\n",
              "    <div>\n",
              "      <progress value='11000' class='' max='11000' style='width:300px; height:20px; vertical-align: middle;'></progress>\n",
              "      100.00% [11000/11000 00:07&lt;00:00 Sampling chain 1, 0 divergences]\n",
              "    </div>\n",
              "    "
            ]
          },
          "metadata": {}
        }
      ]
    },
    {
      "cell_type": "code",
      "source": [
        "with model15_10000:\n",
        "  pm.plot_trace(trace)"
      ],
      "metadata": {
        "colab": {
          "base_uri": "https://localhost:8080/",
          "height": 171
        },
        "id": "brDv9-tQNQku",
        "outputId": "cb5b697d-95b7-4a5d-ffc9-c77ee6993ac2"
      },
      "execution_count": null,
      "outputs": [
        {
          "output_type": "display_data",
          "data": {
            "text/plain": [
              "<Figure size 864x144 with 2 Axes>"
            ],
            "image/png": "[encoded data removed]"
          },
          "metadata": {
            "needs_background": "light"
          }
        }
      ]
    },
    {
      "cell_type": "code",
      "source": [
        "P_S=trace.posterior['P']\n",
        "t=np.array(P_S)\n",
        "print(\"Average P: \", np.average(t))\n",
        "print(\"Standar deviation P: \", np.std(t))\n",
        "confidence=100.0*np.sum(np.logical_and(t>=0.520,t<=0.550)+0)/t.size\n",
        "print(\"Percentage of values between 0.410 and 0.435: \",confidence)\n",
        "print(\"Percentage Values outside this interval: \", 100-confidence)"
      ],
      "metadata": {
        "colab": {
          "base_uri": "https://localhost:8080/"
        },
        "id": "tNw3BDovNWPB",
        "outputId": "c53548f8-4466-443c-dc0b-29c2a612ff3d"
      },
      "execution_count": null,
      "outputs": [
        {
          "output_type": "stream",
          "name": "stdout",
          "text": [
            "Average P:  0.5358617182537839\n",
            "Standar deviation P:  0.0047754225692841845\n",
            "Percentage of values between 0.410 and 0.435:  99.835\n",
            "Percentage Values outside this interval:  0.16500000000000625\n"
          ]
        }
      ]
    },
    {
      "cell_type": "markdown",
      "source": [
        "# Data 18"
      ],
      "metadata": {
        "id": "r9po8fb1N6uv"
      }
    },
    {
      "cell_type": "code",
      "source": [
        "data_18 =np.array((prob18-np.min(prob18))/0.03,dtype=np.int64)\n",
        "range18=np.unique(data_18)\n",
        "print(range18)\n",
        "len(range18)"
      ],
      "metadata": {
        "colab": {
          "base_uri": "https://localhost:8080/"
        },
        "id": "slwvoSrsN8uD",
        "outputId": "c1660595-6c26-4e04-dcf3-eb65a2c213af"
      },
      "execution_count": null,
      "outputs": [
        {
          "output_type": "stream",
          "name": "stdout",
          "text": [
            "[ 0  1  2  3  4  5  6  7  8  9 10]\n"
          ]
        },
        {
          "output_type": "execute_result",
          "data": {
            "text/plain": [
              "11"
            ]
          },
          "metadata": {},
          "execution_count": 52
        }
      ]
    },
    {
      "cell_type": "code",
      "source": [
        "# the model is a binomial where parameter p is uniform and n is 10\n",
        "# data should be transformed to binomial domain: integer from 0 to n\n",
        "with pm.Model() as model18:\n",
        "  P = pm.Uniform(name=\"P\", lower=at.as_tensor_variable(0.0), upper=at.as_tensor_variable(1.0))\n",
        "  Distrib = pm.Binomial(name=\"Distrib\", p=P ,n=np.max(range18) , observed=data_18)"
      ],
      "metadata": {
        "id": "xKqgyG7BODqY"
      },
      "execution_count": null,
      "outputs": []
    },
    {
      "cell_type": "code",
      "source": [
        "with model18:\n",
        "  trace = pm.sample(draws=10000, tune=1000)"
      ],
      "metadata": {
        "colab": {
          "base_uri": "https://localhost:8080/",
          "height": 57
        },
        "id": "hCQcmW1QOKsT",
        "outputId": "f1982aac-94bb-44ab-e417-dec806644a3e"
      },
      "execution_count": null,
      "outputs": [
        {
          "output_type": "display_data",
          "data": {
            "text/plain": [
              "<IPython.core.display.HTML object>"
            ],
            "text/html": [
              "\n",
              "<style>\n",
              "    /* Turns off some styling */\n",
              "    progress {\n",
              "        /* gets rid of default border in Firefox and Opera. */\n",
              "        border: none;\n",
              "        /* Needs to be in here for Safari polyfill so background images work as expected. */\n",
              "        background-size: auto;\n",
              "    }\n",
              "    progress:not([value]), progress:not([value])::-webkit-progress-bar {\n",
              "        background: repeating-linear-gradient(45deg, #7e7e7e, #7e7e7e 10px, #5c5c5c 10px, #5c5c5c 20px);\n",
              "    }\n",
              "    .progress-bar-interrupted, .progress-bar-interrupted::-webkit-progress-bar {\n",
              "        background: #F44336;\n",
              "    }\n",
              "</style>\n"
            ]
          },
          "metadata": {}
        },
        {
          "output_type": "display_data",
          "data": {
            "text/plain": [
              "<IPython.core.display.HTML object>"
            ],
            "text/html": [
              "\n",
              "    <div>\n",
              "      <progress value='11000' class='' max='11000' style='width:300px; height:20px; vertical-align: middle;'></progress>\n",
              "      100.00% [11000/11000 00:07&lt;00:00 Sampling chain 0, 0 divergences]\n",
              "    </div>\n",
              "    "
            ]
          },
          "metadata": {}
        },
        {
          "output_type": "display_data",
          "data": {
            "text/plain": [
              "<IPython.core.display.HTML object>"
            ],
            "text/html": [
              "\n",
              "<style>\n",
              "    /* Turns off some styling */\n",
              "    progress {\n",
              "        /* gets rid of default border in Firefox and Opera. */\n",
              "        border: none;\n",
              "        /* Needs to be in here for Safari polyfill so background images work as expected. */\n",
              "        background-size: auto;\n",
              "    }\n",
              "    progress:not([value]), progress:not([value])::-webkit-progress-bar {\n",
              "        background: repeating-linear-gradient(45deg, #7e7e7e, #7e7e7e 10px, #5c5c5c 10px, #5c5c5c 20px);\n",
              "    }\n",
              "    .progress-bar-interrupted, .progress-bar-interrupted::-webkit-progress-bar {\n",
              "        background: #F44336;\n",
              "    }\n",
              "</style>\n"
            ]
          },
          "metadata": {}
        },
        {
          "output_type": "display_data",
          "data": {
            "text/plain": [
              "<IPython.core.display.HTML object>"
            ],
            "text/html": [
              "\n",
              "    <div>\n",
              "      <progress value='11000' class='' max='11000' style='width:300px; height:20px; vertical-align: middle;'></progress>\n",
              "      100.00% [11000/11000 00:13&lt;00:00 Sampling chain 1, 0 divergences]\n",
              "    </div>\n",
              "    "
            ]
          },
          "metadata": {}
        }
      ]
    },
    {
      "cell_type": "code",
      "source": [
        "with model15_10000:\n",
        "  pm.plot_trace(trace)"
      ],
      "metadata": {
        "colab": {
          "base_uri": "https://localhost:8080/",
          "height": 171
        },
        "id": "B14urb_rObi7",
        "outputId": "015e66f1-965f-4c82-d2d8-7a23356cc38a"
      },
      "execution_count": null,
      "outputs": [
        {
          "output_type": "display_data",
          "data": {
            "text/plain": [
              "<Figure size 864x144 with 2 Axes>"
            ],
            "image/png": "[encoded data removed]"
          },
          "metadata": {
            "needs_background": "light"
          }
        }
      ]
    },
    {
      "cell_type": "code",
      "source": [
        "P_S=trace.posterior['P']\n",
        "t=np.array(P_S)\n",
        "print(\"Average P: \", np.average(t))\n",
        "print(\"Standar deviation P: \", np.std(t))\n",
        "confidence=100.0*np.sum(np.logical_and(t>=0.480,t<=0.510)+0)/t.size\n",
        "print(\"Percentage of values between 0.410 and 0.435: \",confidence)\n",
        "print(\"Percentage Values outside this interval: \", 100-confidence)"
      ],
      "metadata": {
        "colab": {
          "base_uri": "https://localhost:8080/"
        },
        "id": "-LxpQJ4rOklb",
        "outputId": "a01f11d7-1cd7-4e89-df08-d793fcfc98db"
      },
      "execution_count": null,
      "outputs": [
        {
          "output_type": "stream",
          "name": "stdout",
          "text": [
            "Average P:  0.49585899183178817\n",
            "Standar deviation P:  0.0049671139088031755\n",
            "Percentage of values between 0.410 and 0.435:  99.685\n",
            "Percentage Values outside this interval:  0.3149999999999977\n"
          ]
        }
      ]
    },
    {
      "cell_type": "markdown",
      "source": [
        "# Data 19"
      ],
      "metadata": {
        "id": "EfFSndYVOqi4"
      }
    },
    {
      "cell_type": "code",
      "source": [
        "data_19 =np.array((prob19-np.min(prob19))/0.03,dtype=np.int64)\n",
        "range19=np.unique(data_19)\n",
        "print(range19)\n",
        "len(range19)"
      ],
      "metadata": {
        "colab": {
          "base_uri": "https://localhost:8080/"
        },
        "id": "KfF97EgvOsSz",
        "outputId": "c1f18fd2-0777-4b4e-ae6e-b25e0f2a519d"
      },
      "execution_count": null,
      "outputs": [
        {
          "output_type": "stream",
          "name": "stdout",
          "text": [
            "[0 1 2 3 4 5 6 7 8]\n"
          ]
        },
        {
          "output_type": "execute_result",
          "data": {
            "text/plain": [
              "9"
            ]
          },
          "metadata": {},
          "execution_count": 57
        }
      ]
    },
    {
      "cell_type": "code",
      "source": [
        "# the model is a binomial where parameter p is uniform and n is 8\n",
        "# data should be transformed to binomial domain: integer from 0 to n\n",
        "with pm.Model() as model19:\n",
        "  P = pm.Uniform(name=\"P\", lower=at.as_tensor_variable(0.0), upper=at.as_tensor_variable(1.0))\n",
        "  Distrib = pm.Binomial(name=\"Distrib\", p=P ,n=np.max(range19) , observed=data_19)"
      ],
      "metadata": {
        "id": "z89X1e5PPOZW"
      },
      "execution_count": null,
      "outputs": []
    },
    {
      "cell_type": "code",
      "source": [
        "with model19:\n",
        "  trace = pm.sample(draws=10000, tune=1000)"
      ],
      "metadata": {
        "colab": {
          "base_uri": "https://localhost:8080/",
          "height": 57
        },
        "id": "B9ntvpHhPeGB",
        "outputId": "06d94e1f-fd78-49f2-d8ad-b80f02708976"
      },
      "execution_count": null,
      "outputs": [
        {
          "output_type": "display_data",
          "data": {
            "text/plain": [
              "<IPython.core.display.HTML object>"
            ],
            "text/html": [
              "\n",
              "<style>\n",
              "    /* Turns off some styling */\n",
              "    progress {\n",
              "        /* gets rid of default border in Firefox and Opera. */\n",
              "        border: none;\n",
              "        /* Needs to be in here for Safari polyfill so background images work as expected. */\n",
              "        background-size: auto;\n",
              "    }\n",
              "    progress:not([value]), progress:not([value])::-webkit-progress-bar {\n",
              "        background: repeating-linear-gradient(45deg, #7e7e7e, #7e7e7e 10px, #5c5c5c 10px, #5c5c5c 20px);\n",
              "    }\n",
              "    .progress-bar-interrupted, .progress-bar-interrupted::-webkit-progress-bar {\n",
              "        background: #F44336;\n",
              "    }\n",
              "</style>\n"
            ]
          },
          "metadata": {}
        },
        {
          "output_type": "display_data",
          "data": {
            "text/plain": [
              "<IPython.core.display.HTML object>"
            ],
            "text/html": [
              "\n",
              "    <div>\n",
              "      <progress value='11000' class='' max='11000' style='width:300px; height:20px; vertical-align: middle;'></progress>\n",
              "      100.00% [11000/11000 00:09&lt;00:00 Sampling chain 0, 0 divergences]\n",
              "    </div>\n",
              "    "
            ]
          },
          "metadata": {}
        },
        {
          "output_type": "display_data",
          "data": {
            "text/plain": [
              "<IPython.core.display.HTML object>"
            ],
            "text/html": [
              "\n",
              "<style>\n",
              "    /* Turns off some styling */\n",
              "    progress {\n",
              "        /* gets rid of default border in Firefox and Opera. */\n",
              "        border: none;\n",
              "        /* Needs to be in here for Safari polyfill so background images work as expected. */\n",
              "        background-size: auto;\n",
              "    }\n",
              "    progress:not([value]), progress:not([value])::-webkit-progress-bar {\n",
              "        background: repeating-linear-gradient(45deg, #7e7e7e, #7e7e7e 10px, #5c5c5c 10px, #5c5c5c 20px);\n",
              "    }\n",
              "    .progress-bar-interrupted, .progress-bar-interrupted::-webkit-progress-bar {\n",
              "        background: #F44336;\n",
              "    }\n",
              "</style>\n"
            ]
          },
          "metadata": {}
        },
        {
          "output_type": "display_data",
          "data": {
            "text/plain": [
              "<IPython.core.display.HTML object>"
            ],
            "text/html": [
              "\n",
              "    <div>\n",
              "      <progress value='11000' class='' max='11000' style='width:300px; height:20px; vertical-align: middle;'></progress>\n",
              "      100.00% [11000/11000 00:07&lt;00:00 Sampling chain 1, 0 divergences]\n",
              "    </div>\n",
              "    "
            ]
          },
          "metadata": {}
        }
      ]
    },
    {
      "cell_type": "code",
      "source": [
        "with model15_10000:\n",
        "  pm.plot_trace(trace)"
      ],
      "metadata": {
        "colab": {
          "base_uri": "https://localhost:8080/",
          "height": 171
        },
        "id": "RoUO35dePtHD",
        "outputId": "d3f3c1f9-9598-4d1f-e217-ea1def2e53d1"
      },
      "execution_count": null,
      "outputs": [
        {
          "output_type": "display_data",
          "data": {
            "text/plain": [
              "<Figure size 864x144 with 2 Axes>"
            ],
            "image/png": "[encoded data removed]"
          },
          "metadata": {
            "needs_background": "light"
          }
        }
      ]
    },
    {
      "cell_type": "code",
      "source": [
        "P_S=trace.posterior['P']\n",
        "t=np.array(P_S)\n",
        "print(\"Average P: \", np.average(t))\n",
        "print(\"Standar deviation P: \", np.std(t))\n",
        "confidence=100.0*np.sum(np.logical_and(t>=0.560,t<=0.590)+0)/t.size\n",
        "print(\"Percentage of values between 0.410 and 0.435: \",confidence)\n",
        "print(\"Percentage Values outside this interval: \", 100-confidence)"
      ],
      "metadata": {
        "colab": {
          "base_uri": "https://localhost:8080/"
        },
        "id": "LgtObp91Pw6M",
        "outputId": "c3646eff-0eec-4dab-cbaa-9a4cd30ececd"
      },
      "execution_count": null,
      "outputs": [
        {
          "output_type": "stream",
          "name": "stdout",
          "text": [
            "Average P:  0.5772449398929469\n",
            "Standar deviation P:  0.005532891642500347\n",
            "Percentage of values between 0.410 and 0.435:  98.855\n",
            "Percentage Values outside this interval:  1.144999999999996\n"
          ]
        }
      ]
    }
  ]
}